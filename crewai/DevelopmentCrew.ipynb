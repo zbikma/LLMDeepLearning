{
 "cells": [
  {
   "cell_type": "code",
   "execution_count": null,
   "metadata": {},
   "outputs": [],
   "source": [
    "import warnings\n",
    "warnings.filterwarnings('ignore')"
   ]
  },
  {
   "cell_type": "code",
   "execution_count": 1,
   "metadata": {},
   "outputs": [],
   "source": [
    "from crewai import Agent, Task,Crew\n",
    "import os\n",
    "from utils import get_openai_api_key\n",
    "openai_api_key = get_openai_api_key()\n",
    "os.environ(\"OPENAI_MODEL_NAME\")"
   ]
  },
  {
   "cell_type": "code",
   "execution_count": null,
   "metadata": {},
   "outputs": [],
   "source": [
    "SME= Agent(role=\"Subject Matter Expert\",\n",
    "           goal=\"plan the implementation of a backlog story\",\n",
    "           backstory=\"\"\"you are working on finding a solution that can be implemented within a class for the {problem}\n",
    "           define detailed steps for developer to impelement the solution specifically using the programming language {language} and considering the technology stack {tech} \"\"\",\n",
    "           allow_delegate=True,\n",
    "           verbos=True)"
   ]
  }
 ],
 "metadata": {
  "kernelspec": {
   "display_name": "myvenv",
   "language": "python",
   "name": "python3"
  },
  "language_info": {
   "codemirror_mode": {
    "name": "ipython",
    "version": 3
   },
   "file_extension": ".py",
   "mimetype": "text/x-python",
   "name": "python",
   "nbconvert_exporter": "python",
   "pygments_lexer": "ipython3",
   "version": "3.12.5"
  }
 },
 "nbformat": 4,
 "nbformat_minor": 2
}
