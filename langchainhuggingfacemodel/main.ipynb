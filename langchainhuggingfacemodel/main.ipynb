{
 "cells": [
  {
   "cell_type": "code",
   "execution_count": 11,
   "metadata": {},
   "outputs": [
    {
     "name": "stdout",
     "output_type": "stream",
     "text": [
      "Requirement already satisfied: langchain in /Users/LearningUser/Documents/Repos/LLMDeepLearning/myvenv/lib/python3.12/site-packages (0.3.0)\n",
      "Requirement already satisfied: transformers in /Users/LearningUser/Documents/Repos/LLMDeepLearning/myvenv/lib/python3.12/site-packages (4.44.2)\n",
      "Requirement already satisfied: sentence_transformers in /Users/LearningUser/Documents/Repos/LLMDeepLearning/myvenv/lib/python3.12/site-packages (3.1.1)\n",
      "Requirement already satisfied: PyYAML>=5.3 in /Users/LearningUser/Documents/Repos/LLMDeepLearning/myvenv/lib/python3.12/site-packages (from langchain) (6.0.2)\n",
      "Requirement already satisfied: SQLAlchemy<3,>=1.4 in /Users/LearningUser/Documents/Repos/LLMDeepLearning/myvenv/lib/python3.12/site-packages (from langchain) (2.0.34)\n",
      "Requirement already satisfied: aiohttp<4.0.0,>=3.8.3 in /Users/LearningUser/Documents/Repos/LLMDeepLearning/myvenv/lib/python3.12/site-packages (from langchain) (3.10.5)\n",
      "Requirement already satisfied: langchain-core<0.4.0,>=0.3.0 in /Users/LearningUser/Documents/Repos/LLMDeepLearning/myvenv/lib/python3.12/site-packages (from langchain) (0.3.5)\n",
      "Requirement already satisfied: langchain-text-splitters<0.4.0,>=0.3.0 in /Users/LearningUser/Documents/Repos/LLMDeepLearning/myvenv/lib/python3.12/site-packages (from langchain) (0.3.0)\n",
      "Requirement already satisfied: langsmith<0.2.0,>=0.1.17 in /Users/LearningUser/Documents/Repos/LLMDeepLearning/myvenv/lib/python3.12/site-packages (from langchain) (0.1.125)\n",
      "Requirement already satisfied: numpy<2.0.0,>=1.26.0 in /Users/LearningUser/Documents/Repos/LLMDeepLearning/myvenv/lib/python3.12/site-packages (from langchain) (1.26.4)\n",
      "Requirement already satisfied: pydantic<3.0.0,>=2.7.4 in /Users/LearningUser/Documents/Repos/LLMDeepLearning/myvenv/lib/python3.12/site-packages (from langchain) (2.9.1)\n",
      "Requirement already satisfied: requests<3,>=2 in /Users/LearningUser/Documents/Repos/LLMDeepLearning/myvenv/lib/python3.12/site-packages (from langchain) (2.32.3)\n",
      "Requirement already satisfied: tenacity!=8.4.0,<9.0.0,>=8.1.0 in /Users/LearningUser/Documents/Repos/LLMDeepLearning/myvenv/lib/python3.12/site-packages (from langchain) (8.5.0)\n",
      "Requirement already satisfied: filelock in /Users/LearningUser/Documents/Repos/LLMDeepLearning/myvenv/lib/python3.12/site-packages (from transformers) (3.16.0)\n",
      "Requirement already satisfied: huggingface-hub<1.0,>=0.23.2 in /Users/LearningUser/Documents/Repos/LLMDeepLearning/myvenv/lib/python3.12/site-packages (from transformers) (0.25.0)\n",
      "Requirement already satisfied: packaging>=20.0 in /Users/LearningUser/Documents/Repos/LLMDeepLearning/myvenv/lib/python3.12/site-packages (from transformers) (24.1)\n",
      "Requirement already satisfied: regex!=2019.12.17 in /Users/LearningUser/Documents/Repos/LLMDeepLearning/myvenv/lib/python3.12/site-packages (from transformers) (2024.9.11)\n",
      "Requirement already satisfied: safetensors>=0.4.1 in /Users/LearningUser/Documents/Repos/LLMDeepLearning/myvenv/lib/python3.12/site-packages (from transformers) (0.4.5)\n",
      "Requirement already satisfied: tokenizers<0.20,>=0.19 in /Users/LearningUser/Documents/Repos/LLMDeepLearning/myvenv/lib/python3.12/site-packages (from transformers) (0.19.1)\n",
      "Requirement already satisfied: tqdm>=4.27 in /Users/LearningUser/Documents/Repos/LLMDeepLearning/myvenv/lib/python3.12/site-packages (from transformers) (4.66.5)\n",
      "Requirement already satisfied: torch>=1.11.0 in /Users/LearningUser/Documents/Repos/LLMDeepLearning/myvenv/lib/python3.12/site-packages (from sentence_transformers) (2.4.1)\n",
      "Requirement already satisfied: scikit-learn in /Users/LearningUser/Documents/Repos/LLMDeepLearning/myvenv/lib/python3.12/site-packages (from sentence_transformers) (1.5.2)\n",
      "Requirement already satisfied: scipy in /Users/LearningUser/Documents/Repos/LLMDeepLearning/myvenv/lib/python3.12/site-packages (from sentence_transformers) (1.14.1)\n",
      "Requirement already satisfied: Pillow in /Users/LearningUser/Documents/Repos/LLMDeepLearning/myvenv/lib/python3.12/site-packages (from sentence_transformers) (10.4.0)\n",
      "Requirement already satisfied: aiohappyeyeballs>=2.3.0 in /Users/LearningUser/Documents/Repos/LLMDeepLearning/myvenv/lib/python3.12/site-packages (from aiohttp<4.0.0,>=3.8.3->langchain) (2.4.0)\n",
      "Requirement already satisfied: aiosignal>=1.1.2 in /Users/LearningUser/Documents/Repos/LLMDeepLearning/myvenv/lib/python3.12/site-packages (from aiohttp<4.0.0,>=3.8.3->langchain) (1.3.1)\n",
      "Requirement already satisfied: attrs>=17.3.0 in /Users/LearningUser/Documents/Repos/LLMDeepLearning/myvenv/lib/python3.12/site-packages (from aiohttp<4.0.0,>=3.8.3->langchain) (24.2.0)\n",
      "Requirement already satisfied: frozenlist>=1.1.1 in /Users/LearningUser/Documents/Repos/LLMDeepLearning/myvenv/lib/python3.12/site-packages (from aiohttp<4.0.0,>=3.8.3->langchain) (1.4.1)\n",
      "Requirement already satisfied: multidict<7.0,>=4.5 in /Users/LearningUser/Documents/Repos/LLMDeepLearning/myvenv/lib/python3.12/site-packages (from aiohttp<4.0.0,>=3.8.3->langchain) (6.1.0)\n",
      "Requirement already satisfied: yarl<2.0,>=1.0 in /Users/LearningUser/Documents/Repos/LLMDeepLearning/myvenv/lib/python3.12/site-packages (from aiohttp<4.0.0,>=3.8.3->langchain) (1.11.1)\n",
      "Requirement already satisfied: fsspec>=2023.5.0 in /Users/LearningUser/Documents/Repos/LLMDeepLearning/myvenv/lib/python3.12/site-packages (from huggingface-hub<1.0,>=0.23.2->transformers) (2024.9.0)\n",
      "Requirement already satisfied: typing-extensions>=3.7.4.3 in /Users/LearningUser/Documents/Repos/LLMDeepLearning/myvenv/lib/python3.12/site-packages (from huggingface-hub<1.0,>=0.23.2->transformers) (4.12.2)\n",
      "Requirement already satisfied: jsonpatch<2.0,>=1.33 in /Users/LearningUser/Documents/Repos/LLMDeepLearning/myvenv/lib/python3.12/site-packages (from langchain-core<0.4.0,>=0.3.0->langchain) (1.33)\n",
      "Requirement already satisfied: httpx<1,>=0.23.0 in /Users/LearningUser/Documents/Repos/LLMDeepLearning/myvenv/lib/python3.12/site-packages (from langsmith<0.2.0,>=0.1.17->langchain) (0.27.2)\n",
      "Requirement already satisfied: orjson<4.0.0,>=3.9.14 in /Users/LearningUser/Documents/Repos/LLMDeepLearning/myvenv/lib/python3.12/site-packages (from langsmith<0.2.0,>=0.1.17->langchain) (3.10.7)\n",
      "Requirement already satisfied: annotated-types>=0.6.0 in /Users/LearningUser/Documents/Repos/LLMDeepLearning/myvenv/lib/python3.12/site-packages (from pydantic<3.0.0,>=2.7.4->langchain) (0.7.0)\n",
      "Requirement already satisfied: pydantic-core==2.23.3 in /Users/LearningUser/Documents/Repos/LLMDeepLearning/myvenv/lib/python3.12/site-packages (from pydantic<3.0.0,>=2.7.4->langchain) (2.23.3)\n",
      "Requirement already satisfied: charset-normalizer<4,>=2 in /Users/LearningUser/Documents/Repos/LLMDeepLearning/myvenv/lib/python3.12/site-packages (from requests<3,>=2->langchain) (3.3.2)\n",
      "Requirement already satisfied: idna<4,>=2.5 in /Users/LearningUser/Documents/Repos/LLMDeepLearning/myvenv/lib/python3.12/site-packages (from requests<3,>=2->langchain) (3.8)\n",
      "Requirement already satisfied: urllib3<3,>=1.21.1 in /Users/LearningUser/Documents/Repos/LLMDeepLearning/myvenv/lib/python3.12/site-packages (from requests<3,>=2->langchain) (2.2.3)\n",
      "Requirement already satisfied: certifi>=2017.4.17 in /Users/LearningUser/Documents/Repos/LLMDeepLearning/myvenv/lib/python3.12/site-packages (from requests<3,>=2->langchain) (2024.8.30)\n",
      "Requirement already satisfied: sympy in /Users/LearningUser/Documents/Repos/LLMDeepLearning/myvenv/lib/python3.12/site-packages (from torch>=1.11.0->sentence_transformers) (1.13.3)\n",
      "Requirement already satisfied: networkx in /Users/LearningUser/Documents/Repos/LLMDeepLearning/myvenv/lib/python3.12/site-packages (from torch>=1.11.0->sentence_transformers) (3.3)\n",
      "Requirement already satisfied: jinja2 in /Users/LearningUser/Documents/Repos/LLMDeepLearning/myvenv/lib/python3.12/site-packages (from torch>=1.11.0->sentence_transformers) (3.1.4)\n",
      "Requirement already satisfied: setuptools in /Users/LearningUser/Documents/Repos/LLMDeepLearning/myvenv/lib/python3.12/site-packages (from torch>=1.11.0->sentence_transformers) (74.1.2)\n",
      "Requirement already satisfied: joblib>=1.2.0 in /Users/LearningUser/Documents/Repos/LLMDeepLearning/myvenv/lib/python3.12/site-packages (from scikit-learn->sentence_transformers) (1.4.2)\n",
      "Requirement already satisfied: threadpoolctl>=3.1.0 in /Users/LearningUser/Documents/Repos/LLMDeepLearning/myvenv/lib/python3.12/site-packages (from scikit-learn->sentence_transformers) (3.5.0)\n",
      "Requirement already satisfied: anyio in /Users/LearningUser/Documents/Repos/LLMDeepLearning/myvenv/lib/python3.12/site-packages (from httpx<1,>=0.23.0->langsmith<0.2.0,>=0.1.17->langchain) (4.4.0)\n",
      "Requirement already satisfied: httpcore==1.* in /Users/LearningUser/Documents/Repos/LLMDeepLearning/myvenv/lib/python3.12/site-packages (from httpx<1,>=0.23.0->langsmith<0.2.0,>=0.1.17->langchain) (1.0.5)\n",
      "Requirement already satisfied: sniffio in /Users/LearningUser/Documents/Repos/LLMDeepLearning/myvenv/lib/python3.12/site-packages (from httpx<1,>=0.23.0->langsmith<0.2.0,>=0.1.17->langchain) (1.3.1)\n",
      "Requirement already satisfied: h11<0.15,>=0.13 in /Users/LearningUser/Documents/Repos/LLMDeepLearning/myvenv/lib/python3.12/site-packages (from httpcore==1.*->httpx<1,>=0.23.0->langsmith<0.2.0,>=0.1.17->langchain) (0.14.0)\n",
      "Requirement already satisfied: jsonpointer>=1.9 in /Users/LearningUser/Documents/Repos/LLMDeepLearning/myvenv/lib/python3.12/site-packages (from jsonpatch<2.0,>=1.33->langchain-core<0.4.0,>=0.3.0->langchain) (3.0.0)\n",
      "Requirement already satisfied: MarkupSafe>=2.0 in /Users/LearningUser/Documents/Repos/LLMDeepLearning/myvenv/lib/python3.12/site-packages (from jinja2->torch>=1.11.0->sentence_transformers) (2.1.5)\n",
      "Requirement already satisfied: mpmath<1.4,>=1.1.0 in /Users/LearningUser/Documents/Repos/LLMDeepLearning/myvenv/lib/python3.12/site-packages (from sympy->torch>=1.11.0->sentence_transformers) (1.3.0)\n",
      "Collecting langchain_community\n",
      "  Downloading langchain_community-0.3.0-py3-none-any.whl.metadata (2.8 kB)\n",
      "Requirement already satisfied: PyYAML>=5.3 in /Users/LearningUser/Documents/Repos/LLMDeepLearning/myvenv/lib/python3.12/site-packages (from langchain_community) (6.0.2)\n",
      "Requirement already satisfied: SQLAlchemy<3,>=1.4 in /Users/LearningUser/Documents/Repos/LLMDeepLearning/myvenv/lib/python3.12/site-packages (from langchain_community) (2.0.34)\n",
      "Requirement already satisfied: aiohttp<4.0.0,>=3.8.3 in /Users/LearningUser/Documents/Repos/LLMDeepLearning/myvenv/lib/python3.12/site-packages (from langchain_community) (3.10.5)\n",
      "Requirement already satisfied: dataclasses-json<0.7,>=0.5.7 in /Users/LearningUser/Documents/Repos/LLMDeepLearning/myvenv/lib/python3.12/site-packages (from langchain_community) (0.6.7)\n",
      "Requirement already satisfied: langchain<0.4.0,>=0.3.0 in /Users/LearningUser/Documents/Repos/LLMDeepLearning/myvenv/lib/python3.12/site-packages (from langchain_community) (0.3.0)\n",
      "Requirement already satisfied: langchain-core<0.4.0,>=0.3.0 in /Users/LearningUser/Documents/Repos/LLMDeepLearning/myvenv/lib/python3.12/site-packages (from langchain_community) (0.3.5)\n",
      "Requirement already satisfied: langsmith<0.2.0,>=0.1.112 in /Users/LearningUser/Documents/Repos/LLMDeepLearning/myvenv/lib/python3.12/site-packages (from langchain_community) (0.1.125)\n",
      "Requirement already satisfied: numpy<2.0.0,>=1.26.0 in /Users/LearningUser/Documents/Repos/LLMDeepLearning/myvenv/lib/python3.12/site-packages (from langchain_community) (1.26.4)\n",
      "Collecting pydantic-settings<3.0.0,>=2.4.0 (from langchain_community)\n",
      "  Downloading pydantic_settings-2.5.2-py3-none-any.whl.metadata (3.5 kB)\n",
      "Requirement already satisfied: requests<3,>=2 in /Users/LearningUser/Documents/Repos/LLMDeepLearning/myvenv/lib/python3.12/site-packages (from langchain_community) (2.32.3)\n",
      "Requirement already satisfied: tenacity!=8.4.0,<9.0.0,>=8.1.0 in /Users/LearningUser/Documents/Repos/LLMDeepLearning/myvenv/lib/python3.12/site-packages (from langchain_community) (8.5.0)\n",
      "Requirement already satisfied: aiohappyeyeballs>=2.3.0 in /Users/LearningUser/Documents/Repos/LLMDeepLearning/myvenv/lib/python3.12/site-packages (from aiohttp<4.0.0,>=3.8.3->langchain_community) (2.4.0)\n",
      "Requirement already satisfied: aiosignal>=1.1.2 in /Users/LearningUser/Documents/Repos/LLMDeepLearning/myvenv/lib/python3.12/site-packages (from aiohttp<4.0.0,>=3.8.3->langchain_community) (1.3.1)\n",
      "Requirement already satisfied: attrs>=17.3.0 in /Users/LearningUser/Documents/Repos/LLMDeepLearning/myvenv/lib/python3.12/site-packages (from aiohttp<4.0.0,>=3.8.3->langchain_community) (24.2.0)\n",
      "Requirement already satisfied: frozenlist>=1.1.1 in /Users/LearningUser/Documents/Repos/LLMDeepLearning/myvenv/lib/python3.12/site-packages (from aiohttp<4.0.0,>=3.8.3->langchain_community) (1.4.1)\n",
      "Requirement already satisfied: multidict<7.0,>=4.5 in /Users/LearningUser/Documents/Repos/LLMDeepLearning/myvenv/lib/python3.12/site-packages (from aiohttp<4.0.0,>=3.8.3->langchain_community) (6.1.0)\n",
      "Requirement already satisfied: yarl<2.0,>=1.0 in /Users/LearningUser/Documents/Repos/LLMDeepLearning/myvenv/lib/python3.12/site-packages (from aiohttp<4.0.0,>=3.8.3->langchain_community) (1.11.1)\n",
      "Requirement already satisfied: marshmallow<4.0.0,>=3.18.0 in /Users/LearningUser/Documents/Repos/LLMDeepLearning/myvenv/lib/python3.12/site-packages (from dataclasses-json<0.7,>=0.5.7->langchain_community) (3.22.0)\n",
      "Requirement already satisfied: typing-inspect<1,>=0.4.0 in /Users/LearningUser/Documents/Repos/LLMDeepLearning/myvenv/lib/python3.12/site-packages (from dataclasses-json<0.7,>=0.5.7->langchain_community) (0.9.0)\n",
      "Requirement already satisfied: langchain-text-splitters<0.4.0,>=0.3.0 in /Users/LearningUser/Documents/Repos/LLMDeepLearning/myvenv/lib/python3.12/site-packages (from langchain<0.4.0,>=0.3.0->langchain_community) (0.3.0)\n",
      "Requirement already satisfied: pydantic<3.0.0,>=2.7.4 in /Users/LearningUser/Documents/Repos/LLMDeepLearning/myvenv/lib/python3.12/site-packages (from langchain<0.4.0,>=0.3.0->langchain_community) (2.9.1)\n",
      "Requirement already satisfied: jsonpatch<2.0,>=1.33 in /Users/LearningUser/Documents/Repos/LLMDeepLearning/myvenv/lib/python3.12/site-packages (from langchain-core<0.4.0,>=0.3.0->langchain_community) (1.33)\n",
      "Requirement already satisfied: packaging<25,>=23.2 in /Users/LearningUser/Documents/Repos/LLMDeepLearning/myvenv/lib/python3.12/site-packages (from langchain-core<0.4.0,>=0.3.0->langchain_community) (24.1)\n",
      "Requirement already satisfied: typing-extensions>=4.7 in /Users/LearningUser/Documents/Repos/LLMDeepLearning/myvenv/lib/python3.12/site-packages (from langchain-core<0.4.0,>=0.3.0->langchain_community) (4.12.2)\n",
      "Requirement already satisfied: httpx<1,>=0.23.0 in /Users/LearningUser/Documents/Repos/LLMDeepLearning/myvenv/lib/python3.12/site-packages (from langsmith<0.2.0,>=0.1.112->langchain_community) (0.27.2)\n",
      "Requirement already satisfied: orjson<4.0.0,>=3.9.14 in /Users/LearningUser/Documents/Repos/LLMDeepLearning/myvenv/lib/python3.12/site-packages (from langsmith<0.2.0,>=0.1.112->langchain_community) (3.10.7)\n",
      "Requirement already satisfied: python-dotenv>=0.21.0 in /Users/LearningUser/Documents/Repos/LLMDeepLearning/myvenv/lib/python3.12/site-packages (from pydantic-settings<3.0.0,>=2.4.0->langchain_community) (1.0.1)\n",
      "Requirement already satisfied: charset-normalizer<4,>=2 in /Users/LearningUser/Documents/Repos/LLMDeepLearning/myvenv/lib/python3.12/site-packages (from requests<3,>=2->langchain_community) (3.3.2)\n",
      "Requirement already satisfied: idna<4,>=2.5 in /Users/LearningUser/Documents/Repos/LLMDeepLearning/myvenv/lib/python3.12/site-packages (from requests<3,>=2->langchain_community) (3.8)\n",
      "Requirement already satisfied: urllib3<3,>=1.21.1 in /Users/LearningUser/Documents/Repos/LLMDeepLearning/myvenv/lib/python3.12/site-packages (from requests<3,>=2->langchain_community) (2.2.3)\n",
      "Requirement already satisfied: certifi>=2017.4.17 in /Users/LearningUser/Documents/Repos/LLMDeepLearning/myvenv/lib/python3.12/site-packages (from requests<3,>=2->langchain_community) (2024.8.30)\n",
      "Requirement already satisfied: anyio in /Users/LearningUser/Documents/Repos/LLMDeepLearning/myvenv/lib/python3.12/site-packages (from httpx<1,>=0.23.0->langsmith<0.2.0,>=0.1.112->langchain_community) (4.4.0)\n",
      "Requirement already satisfied: httpcore==1.* in /Users/LearningUser/Documents/Repos/LLMDeepLearning/myvenv/lib/python3.12/site-packages (from httpx<1,>=0.23.0->langsmith<0.2.0,>=0.1.112->langchain_community) (1.0.5)\n",
      "Requirement already satisfied: sniffio in /Users/LearningUser/Documents/Repos/LLMDeepLearning/myvenv/lib/python3.12/site-packages (from httpx<1,>=0.23.0->langsmith<0.2.0,>=0.1.112->langchain_community) (1.3.1)\n",
      "Requirement already satisfied: h11<0.15,>=0.13 in /Users/LearningUser/Documents/Repos/LLMDeepLearning/myvenv/lib/python3.12/site-packages (from httpcore==1.*->httpx<1,>=0.23.0->langsmith<0.2.0,>=0.1.112->langchain_community) (0.14.0)\n",
      "Requirement already satisfied: jsonpointer>=1.9 in /Users/LearningUser/Documents/Repos/LLMDeepLearning/myvenv/lib/python3.12/site-packages (from jsonpatch<2.0,>=1.33->langchain-core<0.4.0,>=0.3.0->langchain_community) (3.0.0)\n",
      "Requirement already satisfied: annotated-types>=0.6.0 in /Users/LearningUser/Documents/Repos/LLMDeepLearning/myvenv/lib/python3.12/site-packages (from pydantic<3.0.0,>=2.7.4->langchain<0.4.0,>=0.3.0->langchain_community) (0.7.0)\n",
      "Requirement already satisfied: pydantic-core==2.23.3 in /Users/LearningUser/Documents/Repos/LLMDeepLearning/myvenv/lib/python3.12/site-packages (from pydantic<3.0.0,>=2.7.4->langchain<0.4.0,>=0.3.0->langchain_community) (2.23.3)\n",
      "Requirement already satisfied: mypy-extensions>=0.3.0 in /Users/LearningUser/Documents/Repos/LLMDeepLearning/myvenv/lib/python3.12/site-packages (from typing-inspect<1,>=0.4.0->dataclasses-json<0.7,>=0.5.7->langchain_community) (1.0.0)\n",
      "Downloading langchain_community-0.3.0-py3-none-any.whl (2.3 MB)\n",
      "\u001b[2K   \u001b[90m━━━━━━━━━━━━━━━━━━━━━━━━━━━━━━━━━━━━━━━━\u001b[0m \u001b[32m2.3/2.3 MB\u001b[0m \u001b[31m26.8 MB/s\u001b[0m eta \u001b[36m0:00:00\u001b[0m\n",
      "\u001b[?25hDownloading pydantic_settings-2.5.2-py3-none-any.whl (26 kB)\n",
      "Installing collected packages: pydantic-settings, langchain_community\n",
      "Successfully installed langchain_community-0.3.0 pydantic-settings-2.5.2\n"
     ]
    }
   ],
   "source": [
    "!pip install langchain transformers sentence_transformers\n",
    "!pip install langchain_community"
   ]
  },
  {
   "cell_type": "markdown",
   "metadata": {},
   "source": [
    "## HuggingFace\n",
    "There are two Hugging Face LLM wrappers, one for a local pipeline and one for a model hosted on Hugging Face Hub. Note that these wrappers only work for models that support the following tasks: text2text-generation, text-generation"
   ]
  },
  {
   "cell_type": "code",
   "execution_count": 29,
   "metadata": {},
   "outputs": [
    {
     "data": {
      "text/plain": [
       "True"
      ]
     },
     "execution_count": 29,
     "metadata": {},
     "output_type": "execute_result"
    }
   ],
   "source": [
    "import os\n",
    "from dotenv import find_dotenv,load_dotenv\n",
    "load_dotenv(find_dotenv())"
   ]
  },
  {
   "cell_type": "code",
   "execution_count": 30,
   "metadata": {},
   "outputs": [],
   "source": [
    "from langchain import PromptTemplate, HuggingFaceHub, LLMChain\n",
    "template = \"\"\" Question :{question}\n",
    "Answer: let's think step by step.\n",
    "\"\"\"\n",
    "prompt = PromptTemplate(template=template, input_variables=[\"question\"])"
   ]
  },
  {
   "cell_type": "code",
   "execution_count": 33,
   "metadata": {},
   "outputs": [],
   "source": [
    "llm_chain = LLMChain(prompt=prompt, llm=HuggingFaceHub(repo_id=\"google/flan-t5-large\", \n",
    "                                        model_kwargs={\"temperature\":0, \n",
    "                                                      \"max_length\":64}))"
   ]
  },
  {
   "cell_type": "code",
   "execution_count": 34,
   "metadata": {},
   "outputs": [
    {
     "name": "stdout",
     "output_type": "stream",
     "text": [
      "The capital of Iran is Tehran. The capital of Iran is Tehran. So, the answer is Tehran.\n"
     ]
    }
   ],
   "source": [
    "question=\" what is the capital of Iran?\"\n",
    "print(llm_chain.run(question))"
   ]
  },
  {
   "cell_type": "code",
   "execution_count": null,
   "metadata": {},
   "outputs": [],
   "source": []
  }
 ],
 "metadata": {
  "kernelspec": {
   "display_name": "myvenv",
   "language": "python",
   "name": "python3"
  },
  "language_info": {
   "codemirror_mode": {
    "name": "ipython",
    "version": 3
   },
   "file_extension": ".py",
   "mimetype": "text/x-python",
   "name": "python",
   "nbconvert_exporter": "python",
   "pygments_lexer": "ipython3",
   "version": "3.12.5"
  }
 },
 "nbformat": 4,
 "nbformat_minor": 2
}
