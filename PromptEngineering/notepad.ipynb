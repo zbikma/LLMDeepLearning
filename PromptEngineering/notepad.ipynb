{
 "cells": [
  {
   "cell_type": "code",
   "execution_count": 2,
   "metadata": {},
   "outputs": [],
   "source": [
    "import openai\n",
    "import os\n",
    "from dotenv import load_dotenv, find_dotenv\n",
    "_= load_dotenv(find_dotenv())\n",
    "openai.api_key=os.getenv('OPENAI_API_KEY')\n"
   ]
  },
  {
   "cell_type": "code",
   "execution_count": 3,
   "metadata": {},
   "outputs": [],
   "source": [
    "def get_completion(prompt, model=\"gpt-4\"):\n",
    "    messages = [{\"role\": \"user\", \"content\": prompt}]\n",
    "    response = openai.chat.completions.create(\n",
    "        model=model,\n",
    "        messages=messages,\n",
    "        temperature=0.0\n",
    "    )\n",
    "    return response.choices[0].message.content.strip()"
   ]
  },
  {
   "cell_type": "code",
   "execution_count": 8,
   "metadata": {},
   "outputs": [
    {
     "name": "stderr",
     "output_type": "stream",
     "text": [
      "<>:1: SyntaxWarning: invalid escape sequence '\\ '\n",
      "<>:1: SyntaxWarning: invalid escape sequence '\\ '\n",
      "/var/folders/7k/rk1lz2390wl91m7d5sh1_d9m0000gp/T/ipykernel_14669/2733959966.py:1: SyntaxWarning: invalid escape sequence '\\ '\n",
      "  prod_review = \"\"\"\n"
     ]
    }
   ],
   "source": [
    "prod_review = \"\"\"\n",
    "Got this panda plush toy for my daughter's birthday, \\\n",
    "who loves it and takes it everywhere. It's soft and \\ \n",
    "super cute, and its face has a friendly look. It's \\ \n",
    "a bit small for what I paid though. I think there \\ \n",
    "might be other options that are bigger for the \\ \n",
    "same price. It arrived a day earlier than expected, \\ \n",
    "so I got to play with it myself before I gave it \\ \n",
    "to her.\n",
    "\"\"\""
   ]
  },
  {
   "cell_type": "markdown",
   "metadata": {},
   "source": [
    "## Text to Summarize With focus on Improvement or Acknowledgement"
   ]
  },
  {
   "cell_type": "code",
   "execution_count": 12,
   "metadata": {},
   "outputs": [
    {
     "name": "stdout",
     "output_type": "stream",
     "text": [
      "Summary: The customer was satisfied with the panda plush toy's quality and appearance, but felt it was a bit small for the price. They were pleased with the shipping, as the product arrived a day earlier than expected.\n",
      "\n",
      "Improvement:\n",
      "- Pricing Department: Review the pricing strategy for the product, considering its size.\n",
      "\n",
      "Acknowledgment:\n",
      "- Shipping Department: The product was delivered earlier than expected, which was appreciated by the customer.\n"
     ]
    }
   ],
   "source": [
    "prompt = f\"\"\"\n",
    "Your task is to generate a short summary of a product review from an ecommerce site.\\\n",
    "Summerize the review below, delimited by triple backticks, in at most 50 words. focus more on the shipping aspect of the review.\\\n",
    "Also identify any suggestion and list them as bullet point under improvement or \"Acknowledgment\" with the department being the action provider.\n",
    "\n",
    "Review:```{prod_review}```\n",
    "\"\"\"\n",
    "response =get_completion(prompt)\n",
    "print(response)"
   ]
  },
  {
   "cell_type": "markdown",
   "metadata": {},
   "source": [
    "## Summarize with a focus on price and value"
   ]
  },
  {
   "cell_type": "code",
   "execution_count": 13,
   "metadata": {},
   "outputs": [
    {
     "name": "stdout",
     "output_type": "stream",
     "text": [
      "The customer feels the panda plush toy is smaller than expected for its price, suggesting there may be larger alternatives available at the same cost.\n"
     ]
    }
   ],
   "source": [
    "prompt = f\"\"\"\n",
    "Your task is to generate a short summary of a product \\\n",
    "review from an ecommerce site to give feedback to the \\\n",
    "pricing deparmtment, responsible for determining the \\\n",
    "price of the product.  \n",
    "\n",
    "Summarize the review below, delimited by triple \n",
    "backticks, in at most 30 words, and focusing on any aspects \\\n",
    "that are relevant to the price and perceived value. \n",
    "\n",
    "Review: ```{prod_review}```\n",
    "\"\"\"\n",
    "\n",
    "response = get_completion(prompt)\n",
    "print(response)"
   ]
  },
  {
   "cell_type": "markdown",
   "metadata": {},
   "source": [
    "## Identify / extract feedback per department"
   ]
  },
  {
   "cell_type": "code",
   "execution_count": 22,
   "metadata": {},
   "outputs": [
    {
     "name": "stderr",
     "output_type": "stream",
     "text": [
      "<>:10: SyntaxWarning: invalid escape sequence '\\ '\n",
      "<>:10: SyntaxWarning: invalid escape sequence '\\ '\n",
      "/var/folders/7k/rk1lz2390wl91m7d5sh1_d9m0000gp/T/ipykernel_14669/3977820545.py:10: SyntaxWarning: invalid escape sequence '\\ '\n",
      "  \"\"\"\n"
     ]
    },
    {
     "name": "stdout",
     "output_type": "stream",
     "text": [
      "The customer feels the panda plush toy is a bit small for the price paid and suggests there might be bigger options available at the same price point.\n"
     ]
    }
   ],
   "source": [
    "prompt = f\"\"\"\n",
    "Your task is to extract relevant information from \\ \n",
    "a product review from an ecommerce site to give \\\n",
    "feedback to the any department. \\\n",
    "\n",
    "From the review below, delimited by triple quotes \\\n",
    "extract the information/feedback by pricing  departments . Limit to 30 words. \n",
    "\n",
    "Review: ```{prod_review}```\n",
    "\"\"\"\n",
    "\n",
    "response = get_completion(prompt)\n",
    "print(response)"
   ]
  },
  {
   "cell_type": "markdown",
   "metadata": {},
   "source": [
    "## Summarize multiple product reviews"
   ]
  },
  {
   "cell_type": "code",
   "execution_count": 29,
   "metadata": {},
   "outputs": [
    {
     "name": "stderr",
     "output_type": "stream",
     "text": [
      "<>:38: SyntaxWarning: invalid escape sequence '\\ '\n",
      "<>:38: SyntaxWarning: invalid escape sequence '\\ '\n",
      "/var/folders/7k/rk1lz2390wl91m7d5sh1_d9m0000gp/T/ipykernel_14669/3043445088.py:38: SyntaxWarning: invalid escape sequence '\\ '\n",
      "  review_4 = \"\"\"\n"
     ]
    }
   ],
   "source": [
    "review_1 = prod_review \n",
    "\n",
    "# review for a standing lamp\n",
    "review_2 = \"\"\"\n",
    "Needed a nice lamp for my bedroom, and this one \\\n",
    "had additional storage and not too high of a price \\\n",
    "point. Got it fast - arrived in 2 days. The string \\\n",
    "to the lamp broke during the transit and the company \\\n",
    "happily sent over a new one. Came within a few days \\\n",
    "as well. It was easy to put together. Then I had a \\\n",
    "missing part, so I contacted their support and they \\\n",
    "very quickly got me the missing piece! Seems to me \\\n",
    "to be a great company that cares about their customers \\\n",
    "and products. \n",
    "\"\"\"\n",
    "\n",
    "# review for an electric toothbrush\n",
    "review_3 = \"\"\"\n",
    "My dental hygienist recommended an electric toothbrush, \\\n",
    "which is why I got this. The battery life seems to be \\\n",
    "pretty impressive so far. After initial charging and \\\n",
    "leaving the charger plugged in for the first week to \\\n",
    "condition the battery, I've unplugged the charger and \\\n",
    "been using it for twice daily brushing for the last \\\n",
    "3 weeks all on the same charge. But the toothbrush head \\\n",
    "is too small. I’ve seen baby toothbrushes bigger than \\\n",
    "this one. I wish the head was bigger with different \\\n",
    "length bristles to get between teeth better because \\\n",
    "this one doesn’t.  Overall if you can get this one \\\n",
    "around the $50 mark, it's a good deal. The manufactuer's \\\n",
    "replacements heads are pretty expensive, but you can \\\n",
    "get generic ones that're more reasonably priced. This \\\n",
    "toothbrush makes me feel like I've been to the dentist \\\n",
    "every day. My teeth feel sparkly clean! \n",
    "\"\"\"\n",
    "\n",
    "# review for a blender\n",
    "review_4 = \"\"\"\n",
    "So, they still had the 17 piece system on seasonal \\\n",
    "sale for around $49 in the month of November, about \\\n",
    "half off, but for some reason (call it price gouging) \\\n",
    "around the second week of December the prices all went \\\n",
    "up to about anywhere from between $70-$89 for the same \\\n",
    "system. And the 11 piece system went up around $10 or \\\n",
    "so in price also from the earlier sale price of $29. \\\n",
    "So it looks okay, but if you look at the base, the part \\\n",
    "where the blade locks into place doesn’t look as good \\\n",
    "as in previous editions from a few years ago, but I \\\n",
    "plan to be very gentle with it (example, I crush \\\n",
    "very hard items like beans, ice, rice, etc. in the \\ \n",
    "blender first then pulverize them in the serving size \\\n",
    "I want in the blender then switch to the whipping \\\n",
    "blade for a finer flour, and use the cross cutting blade \\\n",
    "first when making smoothies, then use the flat blade \\\n",
    "if I need them finer/less pulpy). Special tip when making \\\n",
    "smoothies, finely cut and freeze the fruits and \\\n",
    "vegetables (if using spinach-lightly stew soften the \\ \n",
    "spinach then freeze until ready for use-and if making \\\n",
    "sorbet, use a small to medium sized food processor) \\ \n",
    "that you plan to use that way you can avoid adding so \\\n",
    "much ice if at all-when making your smoothie. \\\n",
    "After about a year, the motor was making a funny noise. \\\n",
    "I called customer service but the warranty expired \\\n",
    "already, so I had to buy another one. FYI: The overall \\\n",
    "quality has gone done in these types of products, so \\\n",
    "they are kind of counting on brand recognition and \\\n",
    "consumer loyalty to maintain sales. Got it in about \\\n",
    "two days.\n",
    "\"\"\"\n",
    "reviews=[review_1, review_2,review_3,review_4]"
   ]
  },
  {
   "cell_type": "code",
   "execution_count": 31,
   "metadata": {},
   "outputs": [
    {
     "name": "stdout",
     "output_type": "stream",
     "text": [
      "0 Summary: \n",
      "The reviewer bought a panda plush toy for their daughter who loves it. They found it a bit small for the price.\n",
      "\n",
      "Key Satisfactions:\n",
      "- Daughter loves the toy\n",
      "- Toy is soft and cute\n",
      "- Toy arrived a day earlier than expected\n",
      "\n",
      "Key Complaints:\n",
      "- Toy is smaller than expected for the price\n",
      "\n",
      "Review Category: Positive \n",
      "\n",
      "1 Summary: The reviewer purchased a bedroom lamp with storage, which arrived quickly but had a broken string and missing part. The company promptly replaced the broken part and sent the missing piece.\n",
      "\n",
      "Key Satisfactions:\n",
      "- Fast delivery\n",
      "- Additional storage feature in the lamp\n",
      "- Affordable price\n",
      "- Quick and efficient customer service\n",
      "\n",
      "Key Complaints:\n",
      "- Broken string on arrival\n",
      "- Missing part\n",
      "\n",
      "Review Category: Positive \n",
      "\n",
      "2 Summary: The reviewer is satisfied with the battery life of the electric toothbrush but finds the toothbrush head too small. They appreciate the clean feeling it provides.\n",
      "\n",
      "Key Complaints:\n",
      "- Toothbrush head is too small.\n",
      "- Manufacturer's replacement heads are expensive.\n",
      "\n",
      "Key Satisfactions:\n",
      "- Impressive battery life.\n",
      "- Leaves teeth feeling very clean.\n",
      "- Reasonably priced generic replacement heads are available.\n",
      "\n",
      "Review Category: Positive \n",
      "\n",
      "3 Summary: The reviewer bought a 17 piece system on sale but noticed a price increase in December. They found the quality lower than previous versions, especially the blade lock. After a year, the motor started making a noise and the warranty had expired.\n",
      "\n",
      "Key Complaints:\n",
      "- Price increase in December.\n",
      "- Lower quality compared to previous versions.\n",
      "- Motor started making noise after a year.\n",
      "- Expired warranty.\n",
      "\n",
      "Key Satisfactions:\n",
      "- Useful tips for making smoothies and sorbets.\n",
      "- Fast delivery.\n",
      "\n",
      "Review Category: Negative \n",
      "\n"
     ]
    }
   ],
   "source": [
    "for i in range(len(reviews)):\n",
    "    prompt = f\"\"\" your task is to create a short summary of a product review from an ecommerce site. \\\n",
    "    Summarize the review below delimited by triple backticks \\\n",
    "    in at most 20 words. identify key complaints and satisfactions for the review in bullet points. also categorize the review as positive or negative or neutral\\\n",
    "    Review: ```{reviews[i]}```\n",
    "    \"\"\"\n",
    "    response = get_completion(prompt=prompt)\n",
    "    print(i, response,\"\\n\")"
   ]
  },
  {
   "cell_type": "markdown",
   "metadata": {},
   "source": [
    "## Sentiment Analysis"
   ]
  },
  {
   "cell_type": "code",
   "execution_count": 49,
   "metadata": {},
   "outputs": [],
   "source": [
    "lamp_review = \"\"\"\n",
    "Needed a nice lamp for my bedroom, and this one had \\\n",
    "additional storage and not too high of a price point. \\\n",
    "Got it fast.  The string to our lamp broke during the \\\n",
    "transit and the company happily sent over a new one. \\\n",
    "Came within a few days as well. It was easy to put \\\n",
    "together.  I had a missing part, so I contacted their \\\n",
    "support and they very quickly got me the missing piece! \\\n",
    "Lumina seems to me to be a great company that cares \\\n",
    "about their customers and products!!\n",
    "\"\"\""
   ]
  },
  {
   "cell_type": "markdown",
   "metadata": {},
   "source": [
    "## identify the emotions expressed"
   ]
  },
  {
   "cell_type": "code",
   "execution_count": 50,
   "metadata": {},
   "outputs": [
    {
     "name": "stdout",
     "output_type": "stream",
     "text": [
      "Satisfaction, Appreciation, Happiness, Relief, Trust\n"
     ]
    }
   ],
   "source": [
    "\n",
    "prompt=f\"\"\" identify the list of emotions that the reviewer of the product is expressing. Include no more than five items in the list. format your answer \\\n",
    "as a list of camel case words separated by comma\n",
    "    \n",
    "review text:{lamp_review}\n",
    "\"\"\"\n",
    "response = get_completion(prompt=prompt)\n",
    "print(response)"
   ]
  },
  {
   "cell_type": "code",
   "execution_count": 51,
   "metadata": {},
   "outputs": [
    {
     "name": "stdout",
     "output_type": "stream",
     "text": [
      "{\"Item\": \"lamp\", \"Brand\": \"Lumina\"}\n"
     ]
    }
   ],
   "source": [
    "\n",
    "prompt=f\"\"\" Identify the following items from the review text: \\\n",
    "- Item purchased by reviewer \\\n",
    "- Company that made the item \\\n",
    "\n",
    "The review is delimited with triple backticks. \\\n",
    "Format your response as a JSON object with \\\n",
    "\"Item\" and \"Brand\" as the keys. \n",
    "If the information isn't present, use \"unknown\" \\\n",
    "as the value. \\\n",
    "Make your response as short as possible. \\\n",
    "review text:{lamp_review}\n",
    "\"\"\"\n",
    "response = get_completion(prompt=prompt)\n",
    "print(response)"
   ]
  },
  {
   "cell_type": "markdown",
   "metadata": {},
   "source": [
    "## Doing multiple tasks at once to get a object info from the review"
   ]
  },
  {
   "cell_type": "code",
   "execution_count": 54,
   "metadata": {},
   "outputs": [
    {
     "name": "stdout",
     "output_type": "stream",
     "text": [
      "{\"Sentiment\": \"positive\", \"Anger\": false, \"Item\": \"lamp\", \"Brand\": \"Lumina\"}\n"
     ]
    }
   ],
   "source": [
    "prompt = f\"\"\"\n",
    "Identify the following items from the review text: \n",
    "- Sentiment (positive or negative)\n",
    "- Is the reviewer expressing anger? (true or false)\n",
    "- Item purchased by reviewer\n",
    "- Company that made the item\n",
    "\n",
    "The review is delimited with triple backticks. \\\n",
    "Format your response as a JSON object with \\\n",
    "\"Sentiment\", \"Anger\", \"Item\" and \"Brand\" as the keys.\n",
    "If the information isn't present, use \"unknown\" \\\n",
    "as the value.\n",
    "Make your response as short as possible.\n",
    "Format the Anger value as a boolean.\n",
    "\n",
    "Review text: '''{lamp_review}'''\n",
    "\"\"\"\n",
    "response = get_completion(prompt)\n",
    "print(response)"
   ]
  },
  {
   "cell_type": "markdown",
   "metadata": {},
   "source": [
    "## Inferring Topic"
   ]
  },
  {
   "cell_type": "code",
   "execution_count": 55,
   "metadata": {},
   "outputs": [],
   "source": [
    "TextToInvestigate = \"\"\"Mortgage rates eased again this week as employment growth looks set to stall, raising downside risk to economic growth,” said Orphe Divounguy, senior macroeconomist at Zillow Home Loans. “This week’s inflation report showed inflation is likely to continue to move in the right direction. The focus has now entirely shifted toward labor market risks as the lagged impact of monetary policy plays out. \\\n",
    "Federal Reserve officials, along with Chair Powell, recently noted that the Fed does not ‘seek or welcome further cooling in labor market conditions’. Employment growth is slowing, with downward revisions to the previous two months reports. Worker productivity and employment growth determine how fast the economy grows. Absent a sustained increase in worker efficiency, a decline in employment growth could result in stalling output, putting the economy at greater risk of recession. \\\n",
    "Yields and mortgage rates depend on expected economic growth and Fed expectations. Higher downside risk to economic output will pull yields lower along with the mortgage rates that tend to follow. \\\n",
    "Since next week’s FOMC interest rate cut is fully anticipated, mortgage rates aren’t expected to move much lower at the time of next week’s announcement. \\\n",
    "That is unless the Fed chair points to larger rate cuts in the future than previously thought. With that said, expect more volatility as the market processes \\\n",
    "the new information coming from the Fed’s latest dot plot.\"\"\""
   ]
  },
  {
   "cell_type": "code",
   "execution_count": 60,
   "metadata": {},
   "outputs": [
    {
     "name": "stdout",
     "output_type": "stream",
     "text": [
      "{\n",
      "\"MainTopics\": [\"Mortgage Rates\", \"Employment Growth\", \"Economic Growth\", \"Inflation\", \"Federal Reserve\"],\n",
      "\"Sentiment\": \"Negative\"\n",
      "}\n"
     ]
    }
   ],
   "source": [
    "prompt=f\"\"\" Determine , which is delimited by triple backticks. \\\n",
    "- at most 5 topics that are being discussed in the following text , make each item one or two words long.in a format of python list[] \\\n",
    "- identify the sentiment \"Positive\" or \"Negative\" as the sentiment\n",
    "format the result as Json with keys being \"MainTopics\" and \"Sentiment\"\n",
    "Text Sample:{TextToInvestigate}\n",
    "\"\"\"\n",
    "response = get_completion(prompt=prompt)\n",
    "print(response)"
   ]
  },
  {
   "cell_type": "code",
   "execution_count": 66,
   "metadata": {},
   "outputs": [],
   "source": [
    "resume=\"\"\"Sr. Software Engineer, NDT Global, Quebec, CA \tJan 2022 – Aug 2024 \n",
    "\n",
    "Project: CIGMA Data Transformation \n",
    "\n",
    "Led the transformation of high-volume unstructured data collected from 300+ sensors on an ILI (In-Line Inspection) tool into custom file formats compatible with company software, enhancing data accessibility and usability to main data analysts (C#). \n",
    "\n",
    "Designed and implemented data pipelines to efficiently handle and process 16+ TB of data, ensuring data integrity and accuracy (C#, Task Parallel Library TPL). \n",
    "\n",
    "Project: Digital Transformation Orion 2.0  \n",
    "\n",
    "Architected and implemented Custom Filter Framework, defined NDT Global Data models decoupling the UI Layer From the data Layer, decreased the solution delivery time by 86% (Entity Framework, Repository pattern, Abstraction).  \n",
    "\n",
    "Led the replacement of old WinForms and data grids with custom-built high-performance WPF data grid to efficiently load and synchronize over 4 million records in 6 seconds which was previously taking 2 minutes (C# 12, .NET 8.0, MVVM, Observer Pattern, WPF, SQL Server). \n",
    "\n",
    "Refactored legacy visualization components to improve performance, accuracy, and data synchronization between different scans by defining a framework for sensor data mapping improving auto-detection of regions of interest in the scans. \n",
    "\n",
    "Conducted effective collaboration with 3 product managers and their development teams in an Agile environment, efficiently troubleshooting code-level issues and accurately interpreting business requirements for 5 software products. \n",
    "\n",
    "Project: TFS Migration to Git \n",
    "\n",
    "Championed the use of Azure DevOps CI/CD pipelines throughout the development phase, guaranteeing high-quality software delivery and continuous integration within a geographically distributed team in Germany, Spain and Canada. \n",
    "\n",
    "Led the code review approval to improve software quality and code integrity for the development teams of 6 developers. \n",
    "\n",
    "Project: Digital Transformation Cepheus 2.0 \n",
    "\n",
    "Designed SQL Database schema for inventory tracking module of NDT ILI Tool Configuration Application which eliminated 10+ Excel files. \n",
    "\n",
    "Designed and implemented storage solutions for unstructured data, transitioning from JSON file storage to structured SQL tables while ensuring backward compatibility. This approach improved data accessibility and query performance while maintaining flexibility and support for existing data formats. \n",
    "\n",
    "Sr. Solution Architect, Focus Systems Inc, Regina, CA \tOct 2013 – Jan 2022 \n",
    "\n",
    "Mosaic Potash Mining Company, Sr. Solution Architect \tSep 2019 – Jan 2022 \n",
    "\n",
    "Project: PLS Rail Order Management Web App \n",
    "\n",
    "Designed and led the development of a web application using C#, ASP.NET MVC and Oracle, providing mobile-friendly access to the rail orders management and loading scheduler. \n",
    "\n",
    "Implemented RESTful endpoints within the WCF service, configuring it to handle HTTP requests and expose data in a web-friendly format, improving the integration and functionality of the web application across devices. \n",
    "\n",
    "Project: PLS – Yard Management Integration \n",
    "\n",
    "Implemented ETL solutions using third party API data integration, permanently resolving recurring after-hour support calls (C#, .NET Framework, REST API, Oracle, Agile, Json, Oracle). \n",
    "\n",
    "Project: SAP Order Process Automation \n",
    "\n",
    "Facilitated cross-functional collaboration with the SAP team for Billing RPA by creating SQL scripts to generate valid test data in batch, significantly accelerating solution delivery. \n",
    "\n",
    "Project: Implementation of DocuSign on Private Cloud \n",
    "\n",
    "Ensured data privacy and data governance during the rollout of DocuSign electronic signature solutions, complying with legal requirements across different jurisdictions in the US and China.  \n",
    "\n",
    "Configured access controls for different departments to ensure secure and compliant document handling, meeting regulatory standards for document storage and privacy. \n",
    "\n",
    "TMK IPSCO, Sr. Software Developer, Remote \tMar 2018 – Sep 2019 \n",
    "\n",
    "Project: Pipe Tracking Standardization \n",
    "\n",
    "Designed robust integration solutions that facilitated seamless data flow between disparate systems, enabling real-time enterprise reporting and data-driven decision-making across multiple departments. \n",
    "\n",
    "Engineered SSIS packages to automate and streamline data integration processes across the organization. These packages facilitated the extraction, transformation, and loading (ETL) of structured relational production line datasets from various data sources, ensuring data consistency and accuracy.  \n",
    "\n",
    "Enabled comprehensive production reports using SQL Server Reporting Services (SSRS) and Crystal Reports, providing stakeholders with actionable insights and supporting informed business decisions. \n",
    "\n",
    "Ensured data consistency across multiple databases, minimized latency in data availability, and supported high-availability scenarios by user defined SQL stored procedures to synchronize database replications, enabling both on-demand and scheduled synchronization. \n",
    "\n",
    "Programmer Analyst, Mosaic Potash Mining Company, Regina, SK, CA\t Apr 2015 – Feb 2018 \n",
    "\n",
    "Project: Potash Loading System Standardization \n",
    "\n",
    "Transformed architecture from Monolithic to Client-Server Architecture leveraging WCF services to centralize business logic, and improve maintainability, and performance. \n",
    "\n",
    "Architected and implemented comprehensive data warehousing and reporting solutions by integrating structured data from Oracle and SQL servers using SSIS packages and SSRS. \n",
    "\n",
    "Project: Host Third Party Financial Planning Web Application on Private Cloud \n",
    "\n",
    "Led the configuration of Apache server and MySQL database to host production and financial planning web applications on-premises, ensuring high reliability and security. \n",
    "\n",
    "Architected and deployed ETL packages using SSIS to import SAP HANA forecast CSV files into an on-premises MySQL database, facilitating multi-dimensional financial modeling. \n",
    "\n",
    "EVRAZ, Programmer Analyst, Regina, SK, CA \tJun 2014 – Mar 2015 \n",
    "\n",
    "Project: Pipe Tracking System (CIP) Customization \n",
    "\n",
    "Enhanced the Pipe Tracking System at the Camrose Alberta facility to meet evolving business requirements, utilizing VB.NET, and SQL Server, thereby improving operational efficiency and accuracy within an Agile development framework. \n",
    "\n",
    "Migrated business logic from Visual FoxPro to .NET, implementing a 3-Tier Architecture that adheres to SOLID principles by decoupling the presentation layer from the data layer, ensuring maintainable, scalable, and flexible application design. \n",
    "\n",
    "US Steel, Programmer Analyst, Regina, SK, CA \tOct 2013- Mar 2014 \n",
    "\n",
    "Project: Digital Transformation Production Tracking System \n",
    "\n",
    "Automated the Quality Control component of the US Steel Pipe Tracking System, replacing paper forms and Excel files with a digital solution using VB.NET, SQL, and Crystal Reports. This transformation streamlined operations, improved data accuracy, and significantly enhanced the overall business process efficiency. \n",
    "\n",
    "Research Assistant, University of Regina, Regina, SK, CA \tSep 2010 – Aug 2013 \n",
    "\n",
    "Conducted in-depth research on the sample complexity of pattern languages over sets of alphabets, contributing to advancements in theoretical computer science. \n",
    "\n",
    "Optimized feature selection by implementing the Ant Colony Optimization (ACO) algorithm and enhancing the performance of a weighted K-NN classifier. \n",
    "\n",
    "Bahar Software System, Software Developer (Part-Time), Isfahan, Iran \tDec 2006 – Sep 2008 \n",
    "\n",
    "Developed various small-scale research projects, including a Phonebook, Notepad, University Course Registration System, and Library Management Software, utilizing C++, Visual C++, VB6.0, SQL, Active Report, and Crystal Report, during a part-time role. \n",
    "\n",
    "Research Assistant, Isfahan, Iran \tSep 2006 – Aug 2008\t \n",
    "\n",
    "Formulated the impact of emotional state, personality type, and cultural values on intelligent agent shopping behavior using Fuzzy Logic, contributing to the understanding of AI-driven consumer behavior. \n",
    "\n",
    "Applied a Multilayer Perceptron Neural Network model in OCR to accurately recognize Persian alphabetic letters from images using MATLAB. \n",
    "\n",
    "Kaveh Marine and Port Services, Khozestan, Iran \tSep 2003 – Dec 2006 \n",
    "\n",
    "Implemented an Inventory Tracking Desktop Application, reducing reliance on Excel documents by enabling efficient tracking of customer shipments, calculating warehouse billing, and generating release reports using VB 6.0 and SQL Server 2000. \n",
    "\n",
    "Personal Projects \n",
    "\n",
    "Engineered prompts and APIs for Chatgpt; building AI Agent to write code in local repository; interacting with VS code. Python, Flask (Jul 2024 https://github.com/zbikma/ProjectManagerBot). \n",
    "\n",
    "Created POC for web development using Python, Flask, Fast API, and SQLAlchemy (Dec 2022, Aug 2024 https://github.com/zbikma/blog_api). \n",
    "\n",
    "Performed Sentiment Analysis using NLTK, Pandas, Scikit-Learn, Matplotlib, and Python to classify safety incidents (Sep 2019). \n",
    "\n",
    "Education \n",
    "\n",
    "MSc Computer Science, University of Regina, Regina, SK, Canada \n",
    "\n",
    "Learning Pattern Languages with Membership Examples. Supervised and Unsupervised Learning. \n",
    "\n",
    "MSc Artificial Intelligence, University of Isfahan, Isfahan, Iran \n",
    "\n",
    "BSc Software Engineering, Azad University of Mahshahr, Khuzestan, Iran \n",
    "\n",
    "Certifications \n",
    "\n",
    "IBM Verified Certificate: Python for Data Science (Certificate URL) earned Oct 2021. \n",
    "\n",
    "Coursera Verified Certificate for Google Data Analysis (Certificate URL) Earned Nov 2021. \n",
    "\n",
    "Microsoft Certified: Azure AI (Certificate URL) Earned Sep 2023. \n",
    "\n",
    "The Linux Foundation: Introduction to Kubernetes (Certification URL) Earned Sep 2024 \n",
    "\n",
    "Publications \n",
    "\n",
    "Distinguishing pattern languages with membership examples. Inf. Comput. 256: 348-371 (2017) (link). \n",
    "\n",
    "Distinguishing Pattern Languages with Membership Examples. LATA 2014: 528-540 (link). \n",
    "\n",
    "Prelude to cultural software agents: cultural backgrounds in agent simulation. SpringSim 2008: 135-142 (link). \n",
    "\n",
    " \"\"\""
   ]
  },
  {
   "cell_type": "code",
   "execution_count": 71,
   "metadata": {},
   "outputs": [
    {
     "name": "stderr",
     "output_type": "stream",
     "text": [
      "<>:12: SyntaxWarning: invalid escape sequence '\\ '\n",
      "<>:12: SyntaxWarning: invalid escape sequence '\\ '\n",
      "/var/folders/7k/rk1lz2390wl91m7d5sh1_d9m0000gp/T/ipykernel_14669/3084891667.py:12: SyntaxWarning: invalid escape sequence '\\ '\n",
      "  \"\"\"\n"
     ]
    },
    {
     "name": "stdout",
     "output_type": "stream",
     "text": [
      "Zeinab has a wealth of experience in database design and data governance. She has led the transformation of high-volume unstructured data into custom file formats, enhancing data accessibility and usability. She has also designed and implemented data pipelines to handle and process large volumes of data, ensuring data integrity and accuracy. Zeinab has also designed SQL Database schema for inventory tracking modules, eliminating the need for multiple Excel files. She has implemented storage solutions for unstructured data, transitioning from JSON file storage to structured SQL tables, improving data accessibility and query performance.\n",
      "\n",
      "In the realm of data warehousing, Zeinab has architected and implemented comprehensive solutions by integrating structured data from Oracle and SQL servers. She has also engineered SSIS packages to automate and streamline data integration processes across organizations, facilitating the extraction, transformation, and loading (ETL) of structured relational production line datasets from various data sources. Zeinab has also ensured data consistency across multiple databases, minimized latency in data availability, and supported high-availability scenarios by using SQL stored procedures to synchronize database replications.\n",
      "\n",
      "Zeinab's skills extend to AI and machine learning, as evidenced by her personal projects and research. She has engineered prompts and APIs for Chatgpt, building an AI Agent to write code in local repositories. She has also performed sentiment analysis using NLTK, Pandas, Scikit-Learn, Matplotlib, and Python to classify safety incidents. In her research, she has formulated the impact of emotional state, personality type, and cultural values on intelligent agent shopping behavior using Fuzzy Logic, contributing to the understanding of AI-driven consumer behavior. She has also applied a Multilayer Perceptron Neural Network model in OCR to accurately recognize Persian alphabetic letters from images using MATLAB.\n"
     ]
    }
   ],
   "source": [
    "prompt = f\"\"\"\n",
    "Your task is to extract relevant information from \\ \n",
    "a product review from an ecommerce site to give \\\n",
    "feedback to the any department. \\\n",
    "\n",
    "From the resume below, delimited by triple quotes \\\n",
    "extract the information mostly related to Database design, Data governance, and data warehousing as well as use of unstructured and structured data . refer the owner of the resume as Zeinab.\n",
    "Limit to 300 words. also format it to 3 paragraph. do not include the name of the companies she has worked in. this will be a professional experience summary. Also include relevant information regarding her skills in AI and machine learning\n",
    "and libraries used for data engineering. Avoid repeating starters like \"Zeinab has also\" be more creative in building the paragraphs. format them in list of 3 items\n",
    "\n",
    "Review: ```{resume}```\n",
    "\"\"\"\n",
    "\n",
    "response = get_completion(prompt)\n",
    "print(response)"
   ]
  },
  {
   "cell_type": "code",
   "execution_count": 82,
   "metadata": {},
   "outputs": [],
   "source": [
    "manager_resume=\"\"\"\n",
    "\n",
    "Technical Skills\n",
    "Programming Languages: Python, C#, Java, JavaScript, HTML, CSS, C++.\n",
    "Frameworks and Technologies: PySpark, Scikit-Learn, Flask, SQLAlchemy, NUnit, .NET Core, ASP. Net MVC, REST API, Fast API,\n",
    "Web API, WPF, WCF, LINQ, Entity Framework, SOAP, MVVM, Microservices Architecture, Bootstrap.\n",
    "Databases: SQL Server, PostgreSQL, MySQL, MongoDB, Oracle, SQLite.\n",
    "Tools: Git, Azure DevOps, Azure ML, OpenAI API, Jira, VS Code, PowerShell, Visual Studio Enterprise, Selenium WebDriver,\n",
    "Microsoft Team Foundation Server (TFS), Power Automate, Power BI.\n",
    "Methodologies: Agile, Scrum.\n",
    "\n",
    "Professional Experience\n",
    "NDT Global, Sr. Software Engineer, Remote                                                                                                                                                                 Jan 2022 - present\n",
    "       •       Launched a robust data transformation framework for a new inspection robot driving a new business unit with projected revenue\n",
    "               of $400 million.\n",
    "       •       Led the transformation of 16+ TB data collected from 300+ sensors into custom file formats compatible with company’s\n",
    "               software, enhancing data accessibility and usability to main data analysts.\n",
    "       •       Directed a comprehensive digital transformation initiative that resulted in an 87% reduction in data processing time, directly\n",
    "               enhancing analytics capabilities for 200+ internal users and increasing overall productivity.\n",
    "       •       Architected and implemented NDT Global Data model and Filter Framework, decoupling the UI Layer From the data Layer,\n",
    "               decreasing the feature delivery time by 85%.\n",
    "       •       Led the transformation of legacy UI components with in-house high-performance WPF data grid to load and synchronize over 4\n",
    "               million records in 6 seconds which was previously taking 2 minutes.\n",
    "       •       Conducted sprint reviews, backlog management and sprint planning with 3 product managers and stakeholders; built high\n",
    "               performance geographically distributed team in an Agile environment; defined product roadmap for 4 software products.\n",
    "       •       Spearheaded the migration from TFS to Git, resulting in a 40% improvement in developer collaboration across teams in\n",
    "               Germany, Spain, and Canada (product owner, 6 developers and 1 QA tester).\n",
    "       •       Delivered MVP for automatic sensor carrier configuration based on tools availability and specifications which eliminated 10+\n",
    "               Excel files.\n",
    "               \n",
    "Focus Systems Inc, Sr. Solution Architect, Regina, CA                                                                                                                               Oct 2013 – Jan 2022\n",
    "Clients:\n",
    "Mosaic Potash Mining Company, Sr. Solution Architect, Remote                                                                                                                Sep 2019 – Jan 2022\n",
    "       •       Established REST API data integration solution between external system and Potash Loading System, permanently resolving\n",
    "               recurring weekly after-hour support calls.\n",
    "              Tailored a web application solution to define custom registration forms, which processed over 1,000 submissions monthly;\n",
    "               reduced errors, facilitated integration of 3 new safety programs across 4 sites.\n",
    "TMK IPSCO, Sr. Software Developer, Remote                                                                                                                                                          Mar 2018 – Sep 2019\n",
    "       •       Standardized legacy Pipe Tracking systems by abstracting and consolidating core business processes across 3 geographically\n",
    "               distributed plants.\n",
    "       •       Rolled out integration solutions for 5 data sources, ensuring data consistency and accuracy, providing production planning and\n",
    "               sales departments with actionable insights in Power BI.\n",
    "Mosaic Potash Mining Company, Programmer Analyst, Regina, CA                                                                                                           Apr 2015 – Feb 2018\n",
    "       •       Transformed architecture from Monolithic to Client-Server Architecture leveraging WCF services to centralize business logic,\n",
    "               and improve maintainability, and performance.\n",
    "       •       Configured Apache server and MySQL database to host Quantrix Financial Planning Web Application on Private Cloud,\n",
    "               ensuring high reliability and security.\n",
    "EVRAZ, Programmer Analyst, Regina, CA                                                                                                                                                                  Jun 2014 – Mar 2015\n",
    "       •       Customized the Pipe Tracking System at the Camrose Alberta facility to meet evolving business requirements, transforming\n",
    "               Visual FoxPro forms to VB.NET, and SQL Server and 3-Tier Architecture.\n",
    "US Steel, Programmer Analyst, Regina, CA                                                                                                                                                           Oct 2013 – Mar 2014\n",
    "              Modernized the Quality Control component of the US Steel Pipe Tracking System, replacing paper forms and Excel files\n",
    "               with a desktop application.\n",
    "Bahar Software System, Software Developer (Part-Time), Isfahan, Iran                                                                                            Dec 2006 – Sep 2008\n",
    "\f        •       Developed small-scale research projects, including a Phonebook, Notepad, University Course Registration System, and Library\n",
    "                Management Software.\n",
    "Kaveh Marine and Port Services, IT Consultant, Khuzestan, Iran                                                                                                           Sep 2003 – Dec 2006\n",
    "        •       Built an Inventory Tracking Desktop Application that transformed shipment tracking; automated the billing process for 200+\n",
    "                customer shipments monthly, saving an average of 10 hours per week on data management and reporting.\n",
    "Personal Projects\n",
    "        •       Engineered prompts and APIs for Chatgpt; building AI Agent to write code in local repository; interacting with VS code.\n",
    "                Python, Flask (Jul 2024).\n",
    "        •       Created POC for web development using Python, Flask, FastAPI, and SQLAlchemy (Dec 2022).\n",
    "        •       Developed scraping tool using Beautiful Soap, Selenium web driver and Python, providing trading Bot with real-time stock\n",
    "                market ticker price (Nov 2020).\n",
    "        •       Performed Sentiment Analysis using NLTK and Python to classify safety incidents (Sep 2019).\n",
    "Education\n",
    "Master of Science in Computer Science, University of Regina, Regina, SK, Canada\n",
    "       • Learning Pattern Languages with Membership Examples. Supervised and Unsupervised Learning.\n",
    "Master of Engineering in Artificial Intelligence, University of Isfahan, Isfahan, Iran\n",
    "       • Formulated the impact of emotional state, personality type, and cultural values on intelligent agent shopping behavior using\n",
    "                Fuzzy Logic.\n",
    "       • Applied a Multilayer Perceptron Neural Network model in an OCR application to recognize Persian alphabetic letters from\n",
    "                images using MATLAB.\n",
    "Bachelor of Engineering in Software Engineering, Azad University of Mahshahr, Mahshahr, Iran\n",
    "\n",
    "Certifications\n",
    "        •       edX Verified Certificate for IBM Python for Data Science (Certificate URL) earned Oct 2021.\n",
    "        •       Coursera Verified Certificate for Google Data Analysis (Certificate URL) Earned Nov 2021.\n",
    "        •       Microsoft Certified: Azure AI (Certificate URL) Earned Sep 2023.\n",
    "\n",
    "Publications\n",
    "        •       Distinguishing pattern languages with membership examples. Inf. Comput. 256: 348-371 (2017) (link).\n",
    "        •       Distinguishing Pattern Languages with Membership Examples. LATA 2014: 528-540 (link).\n",
    "        •       Prelude to cultural software agents: cultural backgrounds in agent simulation. SpringSim 2008: 135-142 (link).\n",
    "\f\"\"\""
   ]
  },
  {
   "cell_type": "code",
   "execution_count": 83,
   "metadata": {},
   "outputs": [],
   "source": [
    "job_description=\"\"\" Senior Manager, Product Engineering\n",
    "What you get to do every day\n",
    "\n",
    "Lead the team(s) in achieving established goals and departmental objectives\n",
    "Foster an environment that emphasizes trust, open communication, creative thinking, and cohesive team effort\n",
    "Contribute to the software architecture of a highly concurrent, high-throughput system\n",
    "Contribute to design of new functionality and expand existing functionality\n",
    "Work with other engineering teams via “Guilds” of functional skill sets (Back-End, Front-End, Security, QA, Agile) to develop departmental standards for those functions\n",
    "Plan, balance, and execute sprints containing bug fixes, feature requests, and new product development\n",
    "Help maintain product roadmaps for the team’s portfolio of products along with the Product Manager\n",
    "Manage a number of products and tasks using a variety of technologies\n",
    "Achieve staff results by clearly communicating job expectations, coaching, counseling, and mentoring employees\n",
    "Ensure that any necessary documentation is written and maintained by the engineering team\n",
    "Maintain professional and technical knowledge by following the broader industry, attending management-focused training sessions and educational workshops\n",
    "Create and maintain a workplace culture that is consistent with the overall organization with an emphasis on the KUBRA mission, vision, guiding principles, and values\n",
    "Develop a strong understanding of the products in the engineering team’s portfolio and be able to act as a resource for questions about all aspects of those products.\n",
    "\n",
    "\n",
    "What kind of person should you be?\n",
    "\n",
    "Excellent written and verbal communications skills and an ability to maintain a high degree of professionalism in all communications\n",
    "Leadership and management skills – the ability to attract, retain, motivate, mentor, and develop team members to perform to their highest potential\n",
    "Project management skills – the ability to plan and manage successful projects; including managing risks, costs, time, and roadmaps\n",
    "Excellent organization, time management, problem-solving, and analytical skills\n",
    "Ability to handle pressure and focus on results\n",
    "\n",
    "\n",
    "What skills do you need?\n",
    "\n",
    "10-12 years of experience in Software Engineering, Quality Assurance, Cloud Infrastructure, or DevOps roles\n",
    "3-5 years of experience managing a team\n",
    "Experience with Cloud Services is required; experience with Amazon AWS cloud services is preferred\n",
    "Proficiency in JavaScript, Java, .NET technologies, or a testing automation language is required\n",
    "Proficiency in React, Spring, or Selenium is preferred\n",
    "Proficiency with Linux-based systems\n",
    "Familiarity with CI/CD pipelines, Kubernetes, and Docker\n",
    "Excellent presentation skills\n",
    "Proficiency in Cloud-based architectures\n",
    "Excellent written and verbal communication skills\n",
    "Leadership and management skills – ability to attract, retain, motivate, mentor, and develop team members\n",
    "Project management skills – ability to plan and manage successful projects\n",
    "Excellent organization, time management, problem-solving, and analytical skills\n",
    "\n",
    "\n",
    "\"\"\""
   ]
  },
  {
   "cell_type": "code",
   "execution_count": 85,
   "metadata": {},
   "outputs": [
    {
     "name": "stderr",
     "output_type": "stream",
     "text": [
      "<>:14: SyntaxWarning: invalid escape sequence '\\ '\n",
      "<>:14: SyntaxWarning: invalid escape sequence '\\ '\n",
      "/var/folders/7k/rk1lz2390wl91m7d5sh1_d9m0000gp/T/ipykernel_14669/1613927286.py:14: SyntaxWarning: invalid escape sequence '\\ '\n",
      "  \"\"\"\n"
     ]
    },
    {
     "name": "stdout",
     "output_type": "stream",
     "text": [
      "Key words from job description: Senior Manager, Product Engineering, Lead team, departmental objectives, software architecture, high-throughput system, new functionality, engineering teams, departmental standards, sprints, bug fixes, feature requests, new product development, product roadmaps, manage products and tasks, technologies, staff results, job expectations, coaching, counseling, mentoring, documentation, professional and technical knowledge, industry knowledge, management-focused training sessions, educational workshops, workplace culture, KUBRA mission, vision, guiding principles, values, product understanding, excellent written and verbal communications skills, professionalism, leadership and management skills, project management skills, organization, time management, problem-solving, analytical skills, Software Engineering, Quality Assurance, Cloud Infrastructure, DevOps roles, team management, Cloud Services, Amazon AWS cloud services, JavaScript, Java, .NET technologies, testing automation language, React, Spring, Selenium, Linux-based systems, CI/CD pipelines, Kubernetes, Docker, presentation skills, Cloud-based architectures.\n",
      "\n",
      "Adjustments to the resume:\n",
      "\n",
      "1) In the \"Technical Skills\" section, add \"Cloud Services\" and \"Linux-based systems\" to the list of skills. Also, add \"Amazon AWS cloud services\", \"React\", \"Spring\", \"Selenium\", \"CI/CD pipelines\", \"Kubernetes\", and \"Docker\" if you have experience with these technologies.\n",
      "\n",
      "2) In the \"Professional Experience\" section, emphasize your leadership and management skills, project management skills, and ability to handle pressure and focus on results. Also, highlight your experience in Software Engineering, Quality Assurance, Cloud Infrastructure, and DevOps roles.\n",
      "\n",
      "3) In the \"Education\" section, mention any management-focused training sessions or educational workshops you have attended.\n",
      "\n",
      "4) In the \"Certifications\" section, add any certifications related to the key words from the job description, such as certifications in Amazon AWS cloud services, JavaScript, Java, .NET technologies, testing automation language, React, Spring, Selenium, Linux-based systems, CI/CD pipelines, Kubernetes, Docker, and Cloud-based architectures.\n",
      "\n",
      "5) In the \"Publications\" section, mention any publications related to the key words from the job description.\n",
      "\n",
      "6) Throughout the resume, use professional wording and maintain a high degree of professionalism in all communications.\n",
      "\n",
      "Adjusted resume:\n",
      "\n",
      "```\n",
      "Technical Skills\n",
      "Programming Languages: Python, C#, Java, JavaScript, HTML, CSS, C++.\n",
      "Frameworks and Technologies: PySpark, Scikit-Learn, Flask, SQLAlchemy, NUnit, .NET Core, ASP. Net MVC, REST API, Fast API,\n",
      "Web API, WPF, WCF, LINQ, Entity Framework, SOAP, MVVM, Microservices Architecture, Bootstrap, Cloud Services, Linux-based systems.\n",
      "Databases: SQL Server, PostgreSQL, MySQL, MongoDB, Oracle, SQLite.\n",
      "Tools: Git, Azure DevOps, Azure ML, OpenAI API, Jira, VS Code, PowerShell, Visual Studio Enterprise, Selenium WebDriver,\n",
      "Microsoft Team Foundation Server (TFS), Power Automate, Power BI, Amazon AWS cloud services, React, Spring, Selenium, CI/CD pipelines, Kubernetes, Docker.\n",
      "Methodologies: Agile, Scrum.\n",
      "\n",
      "Professional Experience\n",
      "NDT Global, Sr. Software Engineer, Remote                                                                                                                                                                 Jan 2022 - present\n",
      "       •       Led the team in achieving established goals and departmental objectives.\n",
      "       •       Fostered an environment that emphasized trust, open communication, creative thinking, and cohesive team effort.\n",
      "       •       Contributed to the software architecture of a highly concurrent, high-throughput system.\n",
      "       •       Worked with other engineering teams to develop departmental standards.\n",
      "       •       Planned, balanced, and executed sprints containing bug fixes, feature requests, and new product development.\n",
      "       •       Helped maintain product roadmaps for the team’s portfolio of products.\n",
      "       •       Managed a number of products and tasks using a variety of technologies.\n",
      "       •       Achieved staff results by clearly communicating job expectations, coaching, counseling, and mentoring employees.\n",
      "       •       Ensured that any necessary documentation was written and maintained by the engineering team.\n",
      "       •       Maintained professional and technical knowledge by following the broader industry.\n",
      "       •       Created and maintained a workplace culture that is consistent with the overall organization.\n",
      "       •       Developed a strong understanding of the products in the engineering team’s portfolio.\n",
      "\n",
      "Education\n",
      "Master of Science in Computer Science, University of Regina, Regina, SK, Canada\n",
      "       • Learning Pattern Languages with Membership Examples. Supervised and Unsupervised Learning.\n",
      "       • Attended management-focused training sessions and educational workshops.\n",
      "Master of Engineering in Artificial Intelligence, University of Isfahan, Isfahan, Iran\n",
      "       • Formulated the impact of emotional state, personality type, and cultural values on intelligent agent shopping behavior using\n",
      "                Fuzzy Logic.\n",
      "       • Applied a Multilayer Perceptron Neural Network model in an OCR application to recognize Persian alphabetic letters from\n",
      "                images using MATLAB.\n",
      "Bachelor of Engineering in Software Engineering, Azad University of Mahshahr, Mahshahr, Iran\n",
      "\n",
      "Certifications\n",
      "        •       edX Verified Certificate for IBM Python for Data Science (Certificate URL) earned Oct 2021.\n",
      "        •       Coursera Verified Certificate for Google Data Analysis (Certificate URL) Earned Nov 2021.\n",
      "        •       Microsoft Certified: Azure AI (Certificate URL) Earned Sep 2023.\n",
      "        •       Amazon AWS cloud services, JavaScript, Java, .NET technologies, testing automation language, React, Spring, Selenium, Linux-based systems, CI/CD pipelines, Kubernetes, Docker, and Cloud-based architectures.\n",
      "\n",
      "Publications\n",
      "        •       Distinguishing pattern languages with membership examples. Inf. Comput. 256: 348-371 (2017) (link).\n",
      "        •       Distinguishing Pattern Languages with Membership Examples. LATA 2014: 528-540 (link).\n",
      "        •       Prelude to cultural software agents: cultural backgrounds in agent simulation. SpringSim 2008: 135-142 (link).\n",
      "```\n"
     ]
    }
   ],
   "source": [
    "prompt = f\"\"\"\n",
    "Your task is to \n",
    "1) extract key words from a job description delimited with triple dashes   \\ \n",
    "2) review the resume below that is delimited by triple backticks \n",
    "3)identify the items that can be adjusted to adopt the skills and keywords matching the job description. user professional wording style.\n",
    "then apply the recommendation from step 3 to the resume\n",
    "lastly out put the complete version of the resume\n",
    "instructions:\n",
    "-You must not invent new skills. \n",
    "-you must not add a tool that does not exist in the resume. \n",
    "-you must not change the format of the resume\n",
    "job description: ---{job_description}---\n",
    "resume: ```{manager_resume}```\n",
    "\"\"\"\n",
    "\n",
    "response = get_completion(prompt)\n",
    "print(response)"
   ]
  },
  {
   "cell_type": "code",
   "execution_count": 90,
   "metadata": {},
   "outputs": [
    {
     "name": "stderr",
     "output_type": "stream",
     "text": [
      "<>:20: SyntaxWarning: invalid escape sequence '\\ '\n",
      "<>:20: SyntaxWarning: invalid escape sequence '\\ '\n",
      "/var/folders/7k/rk1lz2390wl91m7d5sh1_d9m0000gp/T/ipykernel_14669/2244680575.py:20: SyntaxWarning: invalid escape sequence '\\ '\n",
      "  \"\"\"\n"
     ]
    },
    {
     "name": "stdout",
     "output_type": "stream",
     "text": [
      "Dear Hiring Team,\n",
      "\n",
      "Imagine a world where your product engineering team is a well-oiled machine, where every cog fits perfectly, and the output is nothing short of extraordinary. Now, meet Zeinab, the master engineer who can make this world a reality.\n",
      "\n",
      "Zeinab is a seasoned software engineer with over a decade of experience in the field. She has a proven track record of leading teams to achieve established goals and objectives. She is a transformational leader who leads by example, fostering an environment of trust, open communication, creative thinking, and cohesive team effort. \n",
      "\n",
      "She is not just a manager, but a mentor, a coach, and a counselor. She has a knack for attracting, retaining, motivating, and developing team members to perform to their highest potential. She is a project management maestro, with the ability to plan and manage successful projects, including managing risks, costs, time, and roadmaps.\n",
      "\n",
      "Zeinab is a stickler for quality. She has a keen eye for detail and a relentless pursuit of excellence. She is proficient in a variety of technologies and programming languages, and she is always on the lookout for new ways to improve and innovate.\n",
      "\n",
      "But Zeinab is not all work and no play. She has a great sense of humor and knows how to lighten the mood when the going gets tough. She believes that a happy team is a productive team, and she goes out of her way to ensure that her team members feel valued and appreciated.\n",
      "\n",
      "In a nutshell, Zeinab is the kind of leader who can take your product engineering team to new heights. She is a powerhouse of talent, skills, and experience, and she is ready to bring her A-game to your organization.\n",
      "\n",
      "So, are you ready to welcome Zeinab into your team and witness a transformation like never before?\n",
      "\n",
      "Best Regards,\n",
      "[Your Name]\n"
     ]
    }
   ],
   "source": [
    "prompt = f\"\"\"\n",
    "Your task is to \n",
    "1) read and understand the job description delimited with triple dashes   \\ \n",
    "2) read and understand the resume below that is delimited by triple backticks \n",
    "3) write a motivational letter that is not exceeding 300 words. with the emphsize on zeinab being a transformational leader, leading by example, building high performing and \n",
    "highly motivated teams, high quality solution and product. adhearung to continious learning and improvemeng\n",
    "instructions:\n",
    "- add some humor to it \n",
    "- do not start with \"I am writing to express my interest in \"\n",
    "-be creative \n",
    "\n",
    "-must convince the hiring manager to hire such person\n",
    "- must emphesize on the value provided to the organization\n",
    "- must not be in a format of email but more as a motivational letter\n",
    "-You must not invent new skills. \n",
    "-you must not add or name detailed tools.\n",
    "\n",
    "job description: ---{job_description}---\n",
    "resume: ```{manager_resume}```\n",
    "\"\"\"\n",
    "\n",
    "response = get_completion(prompt)\n",
    "print(response)"
   ]
  }
 ],
 "metadata": {
  "kernelspec": {
   "display_name": "myvenv",
   "language": "python",
   "name": "python3"
  },
  "language_info": {
   "codemirror_mode": {
    "name": "ipython",
    "version": 3
   },
   "file_extension": ".py",
   "mimetype": "text/x-python",
   "name": "python",
   "nbconvert_exporter": "python",
   "pygments_lexer": "ipython3",
   "version": "3.12.5"
  }
 },
 "nbformat": 4,
 "nbformat_minor": 2
}
