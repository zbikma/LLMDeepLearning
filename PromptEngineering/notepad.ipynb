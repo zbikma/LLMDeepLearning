{
 "cells": [
  {
   "cell_type": "code",
   "execution_count": 6,
   "metadata": {},
   "outputs": [],
   "source": [
    "import openai\n",
    "import os\n",
    "from dotenv import load_dotenv, find_dotenv\n",
    "_= load_dotenv(find_dotenv())\n",
    "openai.api_key=os.getenv('OPENAI_API_KEY')\n"
   ]
  },
  {
   "cell_type": "code",
   "execution_count": 7,
   "metadata": {},
   "outputs": [],
   "source": [
    "def get_completion(prompt, model=\"gpt-4\"):\n",
    "    messages = [{\"role\": \"user\", \"content\": prompt}]\n",
    "    response = openai.chat.completions.create(\n",
    "        model=model,\n",
    "        messages=messages,\n",
    "        temperature=0.0\n",
    "    )\n",
    "    return response.choices[0].message.content.strip()"
   ]
  },
  {
   "cell_type": "code",
   "execution_count": 8,
   "metadata": {},
   "outputs": [
    {
     "name": "stderr",
     "output_type": "stream",
     "text": [
      "<>:1: SyntaxWarning: invalid escape sequence '\\ '\n",
      "<>:1: SyntaxWarning: invalid escape sequence '\\ '\n",
      "/var/folders/7k/rk1lz2390wl91m7d5sh1_d9m0000gp/T/ipykernel_14669/2733959966.py:1: SyntaxWarning: invalid escape sequence '\\ '\n",
      "  prod_review = \"\"\"\n"
     ]
    }
   ],
   "source": [
    "prod_review = \"\"\"\n",
    "Got this panda plush toy for my daughter's birthday, \\\n",
    "who loves it and takes it everywhere. It's soft and \\ \n",
    "super cute, and its face has a friendly look. It's \\ \n",
    "a bit small for what I paid though. I think there \\ \n",
    "might be other options that are bigger for the \\ \n",
    "same price. It arrived a day earlier than expected, \\ \n",
    "so I got to play with it myself before I gave it \\ \n",
    "to her.\n",
    "\"\"\""
   ]
  },
  {
   "cell_type": "markdown",
   "metadata": {},
   "source": [
    "## Text to Summarize With focus on Improvement or Acknowledgement"
   ]
  },
  {
   "cell_type": "code",
   "execution_count": 12,
   "metadata": {},
   "outputs": [
    {
     "name": "stdout",
     "output_type": "stream",
     "text": [
      "Summary: The customer was satisfied with the panda plush toy's quality and appearance, but felt it was a bit small for the price. They were pleased with the shipping, as the product arrived a day earlier than expected.\n",
      "\n",
      "Improvement:\n",
      "- Pricing Department: Review the pricing strategy for the product, considering its size.\n",
      "\n",
      "Acknowledgment:\n",
      "- Shipping Department: The product was delivered earlier than expected, which was appreciated by the customer.\n"
     ]
    }
   ],
   "source": [
    "prompt = f\"\"\"\n",
    "Your task is to generate a short summary of a product review from an ecommerce site.\\\n",
    "Summerize the review below, delimited by triple backticks, in at most 50 words. focus more on the shipping aspect of the review.\\\n",
    "Also identify any suggestion and list them as bullet point under improvement or \"Acknowledgment\" with the department being the action provider.\n",
    "\n",
    "Review:```{prod_review}```\n",
    "\"\"\"\n",
    "response =get_completion(prompt)\n",
    "print(response)"
   ]
  },
  {
   "cell_type": "markdown",
   "metadata": {},
   "source": [
    "## Summarize with a focus on price and value"
   ]
  },
  {
   "cell_type": "code",
   "execution_count": 13,
   "metadata": {},
   "outputs": [
    {
     "name": "stdout",
     "output_type": "stream",
     "text": [
      "The customer feels the panda plush toy is smaller than expected for its price, suggesting there may be larger alternatives available at the same cost.\n"
     ]
    }
   ],
   "source": [
    "prompt = f\"\"\"\n",
    "Your task is to generate a short summary of a product \\\n",
    "review from an ecommerce site to give feedback to the \\\n",
    "pricing deparmtment, responsible for determining the \\\n",
    "price of the product.  \n",
    "\n",
    "Summarize the review below, delimited by triple \n",
    "backticks, in at most 30 words, and focusing on any aspects \\\n",
    "that are relevant to the price and perceived value. \n",
    "\n",
    "Review: ```{prod_review}```\n",
    "\"\"\"\n",
    "\n",
    "response = get_completion(prompt)\n",
    "print(response)"
   ]
  },
  {
   "cell_type": "markdown",
   "metadata": {},
   "source": [
    "## Identify / extract feedback per department"
   ]
  },
  {
   "cell_type": "code",
   "execution_count": 22,
   "metadata": {},
   "outputs": [
    {
     "name": "stderr",
     "output_type": "stream",
     "text": [
      "<>:10: SyntaxWarning: invalid escape sequence '\\ '\n",
      "<>:10: SyntaxWarning: invalid escape sequence '\\ '\n",
      "/var/folders/7k/rk1lz2390wl91m7d5sh1_d9m0000gp/T/ipykernel_14669/3977820545.py:10: SyntaxWarning: invalid escape sequence '\\ '\n",
      "  \"\"\"\n"
     ]
    },
    {
     "name": "stdout",
     "output_type": "stream",
     "text": [
      "The customer feels the panda plush toy is a bit small for the price paid and suggests there might be bigger options available at the same price point.\n"
     ]
    }
   ],
   "source": [
    "prompt = f\"\"\"\n",
    "Your task is to extract relevant information from \\ \n",
    "a product review from an ecommerce site to give \\\n",
    "feedback to the any department. \\\n",
    "\n",
    "From the review below, delimited by triple quotes \\\n",
    "extract the information/feedback by pricing  departments . Limit to 30 words. \n",
    "\n",
    "Review: ```{prod_review}```\n",
    "\"\"\"\n",
    "\n",
    "response = get_completion(prompt)\n",
    "print(response)"
   ]
  },
  {
   "cell_type": "markdown",
   "metadata": {},
   "source": [
    "## Summarize multiple product reviews"
   ]
  },
  {
   "cell_type": "code",
   "execution_count": 29,
   "metadata": {},
   "outputs": [
    {
     "name": "stderr",
     "output_type": "stream",
     "text": [
      "<>:38: SyntaxWarning: invalid escape sequence '\\ '\n",
      "<>:38: SyntaxWarning: invalid escape sequence '\\ '\n",
      "/var/folders/7k/rk1lz2390wl91m7d5sh1_d9m0000gp/T/ipykernel_14669/3043445088.py:38: SyntaxWarning: invalid escape sequence '\\ '\n",
      "  review_4 = \"\"\"\n"
     ]
    }
   ],
   "source": [
    "review_1 = prod_review \n",
    "\n",
    "# review for a standing lamp\n",
    "review_2 = \"\"\"\n",
    "Needed a nice lamp for my bedroom, and this one \\\n",
    "had additional storage and not too high of a price \\\n",
    "point. Got it fast - arrived in 2 days. The string \\\n",
    "to the lamp broke during the transit and the company \\\n",
    "happily sent over a new one. Came within a few days \\\n",
    "as well. It was easy to put together. Then I had a \\\n",
    "missing part, so I contacted their support and they \\\n",
    "very quickly got me the missing piece! Seems to me \\\n",
    "to be a great company that cares about their customers \\\n",
    "and products. \n",
    "\"\"\"\n",
    "\n",
    "# review for an electric toothbrush\n",
    "review_3 = \"\"\"\n",
    "My dental hygienist recommended an electric toothbrush, \\\n",
    "which is why I got this. The battery life seems to be \\\n",
    "pretty impressive so far. After initial charging and \\\n",
    "leaving the charger plugged in for the first week to \\\n",
    "condition the battery, I've unplugged the charger and \\\n",
    "been using it for twice daily brushing for the last \\\n",
    "3 weeks all on the same charge. But the toothbrush head \\\n",
    "is too small. I’ve seen baby toothbrushes bigger than \\\n",
    "this one. I wish the head was bigger with different \\\n",
    "length bristles to get between teeth better because \\\n",
    "this one doesn’t.  Overall if you can get this one \\\n",
    "around the $50 mark, it's a good deal. The manufactuer's \\\n",
    "replacements heads are pretty expensive, but you can \\\n",
    "get generic ones that're more reasonably priced. This \\\n",
    "toothbrush makes me feel like I've been to the dentist \\\n",
    "every day. My teeth feel sparkly clean! \n",
    "\"\"\"\n",
    "\n",
    "# review for a blender\n",
    "review_4 = \"\"\"\n",
    "So, they still had the 17 piece system on seasonal \\\n",
    "sale for around $49 in the month of November, about \\\n",
    "half off, but for some reason (call it price gouging) \\\n",
    "around the second week of December the prices all went \\\n",
    "up to about anywhere from between $70-$89 for the same \\\n",
    "system. And the 11 piece system went up around $10 or \\\n",
    "so in price also from the earlier sale price of $29. \\\n",
    "So it looks okay, but if you look at the base, the part \\\n",
    "where the blade locks into place doesn’t look as good \\\n",
    "as in previous editions from a few years ago, but I \\\n",
    "plan to be very gentle with it (example, I crush \\\n",
    "very hard items like beans, ice, rice, etc. in the \\ \n",
    "blender first then pulverize them in the serving size \\\n",
    "I want in the blender then switch to the whipping \\\n",
    "blade for a finer flour, and use the cross cutting blade \\\n",
    "first when making smoothies, then use the flat blade \\\n",
    "if I need them finer/less pulpy). Special tip when making \\\n",
    "smoothies, finely cut and freeze the fruits and \\\n",
    "vegetables (if using spinach-lightly stew soften the \\ \n",
    "spinach then freeze until ready for use-and if making \\\n",
    "sorbet, use a small to medium sized food processor) \\ \n",
    "that you plan to use that way you can avoid adding so \\\n",
    "much ice if at all-when making your smoothie. \\\n",
    "After about a year, the motor was making a funny noise. \\\n",
    "I called customer service but the warranty expired \\\n",
    "already, so I had to buy another one. FYI: The overall \\\n",
    "quality has gone done in these types of products, so \\\n",
    "they are kind of counting on brand recognition and \\\n",
    "consumer loyalty to maintain sales. Got it in about \\\n",
    "two days.\n",
    "\"\"\"\n",
    "reviews=[review_1, review_2,review_3,review_4]"
   ]
  },
  {
   "cell_type": "code",
   "execution_count": 31,
   "metadata": {},
   "outputs": [
    {
     "name": "stdout",
     "output_type": "stream",
     "text": [
      "0 Summary: \n",
      "The reviewer bought a panda plush toy for their daughter who loves it. They found it a bit small for the price.\n",
      "\n",
      "Key Satisfactions:\n",
      "- Daughter loves the toy\n",
      "- Toy is soft and cute\n",
      "- Toy arrived a day earlier than expected\n",
      "\n",
      "Key Complaints:\n",
      "- Toy is smaller than expected for the price\n",
      "\n",
      "Review Category: Positive \n",
      "\n",
      "1 Summary: The reviewer purchased a bedroom lamp with storage, which arrived quickly but had a broken string and missing part. The company promptly replaced the broken part and sent the missing piece.\n",
      "\n",
      "Key Satisfactions:\n",
      "- Fast delivery\n",
      "- Additional storage feature in the lamp\n",
      "- Affordable price\n",
      "- Quick and efficient customer service\n",
      "\n",
      "Key Complaints:\n",
      "- Broken string on arrival\n",
      "- Missing part\n",
      "\n",
      "Review Category: Positive \n",
      "\n",
      "2 Summary: The reviewer is satisfied with the battery life of the electric toothbrush but finds the toothbrush head too small. They appreciate the clean feeling it provides.\n",
      "\n",
      "Key Complaints:\n",
      "- Toothbrush head is too small.\n",
      "- Manufacturer's replacement heads are expensive.\n",
      "\n",
      "Key Satisfactions:\n",
      "- Impressive battery life.\n",
      "- Leaves teeth feeling very clean.\n",
      "- Reasonably priced generic replacement heads are available.\n",
      "\n",
      "Review Category: Positive \n",
      "\n",
      "3 Summary: The reviewer bought a 17 piece system on sale but noticed a price increase in December. They found the quality lower than previous versions, especially the blade lock. After a year, the motor started making a noise and the warranty had expired.\n",
      "\n",
      "Key Complaints:\n",
      "- Price increase in December.\n",
      "- Lower quality compared to previous versions.\n",
      "- Motor started making noise after a year.\n",
      "- Expired warranty.\n",
      "\n",
      "Key Satisfactions:\n",
      "- Useful tips for making smoothies and sorbets.\n",
      "- Fast delivery.\n",
      "\n",
      "Review Category: Negative \n",
      "\n"
     ]
    }
   ],
   "source": [
    "for i in range(len(reviews)):\n",
    "    prompt = f\"\"\" your task is to create a short summary of a product review from an ecommerce site. \\\n",
    "    Summarize the review below delimited by triple backticks \\\n",
    "    in at most 20 words. identify key complaints and satisfactions for the review in bullet points. also categorize the review as positive or negative or neutral\\\n",
    "    Review: ```{reviews[i]}```\n",
    "    \"\"\"\n",
    "    response = get_completion(prompt=prompt)\n",
    "    print(i, response,\"\\n\")"
   ]
  },
  {
   "cell_type": "markdown",
   "metadata": {},
   "source": [
    "## Sentiment Analysis"
   ]
  },
  {
   "cell_type": "code",
   "execution_count": 49,
   "metadata": {},
   "outputs": [],
   "source": [
    "lamp_review = \"\"\"\n",
    "Needed a nice lamp for my bedroom, and this one had \\\n",
    "additional storage and not too high of a price point. \\\n",
    "Got it fast.  The string to our lamp broke during the \\\n",
    "transit and the company happily sent over a new one. \\\n",
    "Came within a few days as well. It was easy to put \\\n",
    "together.  I had a missing part, so I contacted their \\\n",
    "support and they very quickly got me the missing piece! \\\n",
    "Lumina seems to me to be a great company that cares \\\n",
    "about their customers and products!!\n",
    "\"\"\""
   ]
  },
  {
   "cell_type": "markdown",
   "metadata": {},
   "source": [
    "## identify the emotions expressed"
   ]
  },
  {
   "cell_type": "code",
   "execution_count": 50,
   "metadata": {},
   "outputs": [
    {
     "name": "stdout",
     "output_type": "stream",
     "text": [
      "Satisfaction, Appreciation, Happiness, Relief, Trust\n"
     ]
    }
   ],
   "source": [
    "\n",
    "prompt=f\"\"\" identify the list of emotions that the reviewer of the product is expressing. Include no more than five items in the list. format your answer \\\n",
    "as a list of camel case words separated by comma\n",
    "    \n",
    "review text:{lamp_review}\n",
    "\"\"\"\n",
    "response = get_completion(prompt=prompt)\n",
    "print(response)"
   ]
  },
  {
   "cell_type": "code",
   "execution_count": 51,
   "metadata": {},
   "outputs": [
    {
     "name": "stdout",
     "output_type": "stream",
     "text": [
      "{\"Item\": \"lamp\", \"Brand\": \"Lumina\"}\n"
     ]
    }
   ],
   "source": [
    "\n",
    "prompt=f\"\"\" Identify the following items from the review text: \\\n",
    "- Item purchased by reviewer \\\n",
    "- Company that made the item \\\n",
    "\n",
    "The review is delimited with triple backticks. \\\n",
    "Format your response as a JSON object with \\\n",
    "\"Item\" and \"Brand\" as the keys. \n",
    "If the information isn't present, use \"unknown\" \\\n",
    "as the value. \\\n",
    "Make your response as short as possible. \\\n",
    "review text:{lamp_review}\n",
    "\"\"\"\n",
    "response = get_completion(prompt=prompt)\n",
    "print(response)"
   ]
  },
  {
   "cell_type": "markdown",
   "metadata": {},
   "source": [
    "## Doing multiple tasks at once to get a object info from the review"
   ]
  },
  {
   "cell_type": "code",
   "execution_count": 54,
   "metadata": {},
   "outputs": [
    {
     "name": "stdout",
     "output_type": "stream",
     "text": [
      "{\"Sentiment\": \"positive\", \"Anger\": false, \"Item\": \"lamp\", \"Brand\": \"Lumina\"}\n"
     ]
    }
   ],
   "source": [
    "prompt = f\"\"\"\n",
    "Identify the following items from the review text: \n",
    "- Sentiment (positive or negative)\n",
    "- Is the reviewer expressing anger? (true or false)\n",
    "- Item purchased by reviewer\n",
    "- Company that made the item\n",
    "\n",
    "The review is delimited with triple backticks. \\\n",
    "Format your response as a JSON object with \\\n",
    "\"Sentiment\", \"Anger\", \"Item\" and \"Brand\" as the keys.\n",
    "If the information isn't present, use \"unknown\" \\\n",
    "as the value.\n",
    "Make your response as short as possible.\n",
    "Format the Anger value as a boolean.\n",
    "\n",
    "Review text: '''{lamp_review}'''\n",
    "\"\"\"\n",
    "response = get_completion(prompt)\n",
    "print(response)"
   ]
  },
  {
   "cell_type": "markdown",
   "metadata": {},
   "source": [
    "## Inferring Topic"
   ]
  },
  {
   "cell_type": "code",
   "execution_count": null,
   "metadata": {},
   "outputs": [],
   "source": [
    "TextToInvestigate = \"\"\"Mortgage rates eased again this week as employment growth looks set to stall, raising downside risk to economic growth,” said Orphe Divounguy, senior macroeconomist at Zillow Home Loans. “This week’s inflation report showed inflation is likely to continue to move in the right direction. The focus has now entirely shifted toward labor market risks as the lagged impact of monetary policy plays out. \\\n",
    "Federal Reserve officials, along with Chair Powell, recently noted that the Fed does not ‘seek or welcome further cooling in labor market conditions’. Employment growth is slowing, with downward revisions to the previous two months reports. Worker productivity and employment growth determine how fast the economy grows. Absent a sustained increase in worker efficiency, a decline in employment growth could result in stalling output, putting the economy at greater risk of recession. \\\n",
    "Yields and mortgage rates depend on expected economic growth and Fed expectations. Higher downside risk to economic output will pull yields lower along with the mortgage rates that tend to follow. \\\n",
    "Since next week’s FOMC interest rate cut is fully anticipated, mortgage rates aren’t expected to move much lower at the time of next week’s announcement. \\\n",
    "That is unless the Fed chair points to larger rate cuts in the future than previously thought. With that said, expect more volatility as the market processes \\\n",
    "the new information coming from the Fed’s latest dot plot.\"\"\""
   ]
  },
  {
   "cell_type": "code",
   "execution_count": null,
   "metadata": {},
   "outputs": [],
   "source": [
    "prompt=f\"\"\" Determine at most 5 topics that are being discussed in the following text, which is delimited by triple backticks. \\\n",
    "make each item one or two words long. \\\n",
    "format your response as a list of items separated by commas. \\\n",
    "Text Sample:{TextToInvestigate}\n",
    "\"\"\""
   ]
  }
 ],
 "metadata": {
  "kernelspec": {
   "display_name": "myvenv",
   "language": "python",
   "name": "python3"
  },
  "language_info": {
   "codemirror_mode": {
    "name": "ipython",
    "version": 3
   },
   "file_extension": ".py",
   "mimetype": "text/x-python",
   "name": "python",
   "nbconvert_exporter": "python",
   "pygments_lexer": "ipython3",
   "version": "3.12.5"
  }
 },
 "nbformat": 4,
 "nbformat_minor": 2
}
